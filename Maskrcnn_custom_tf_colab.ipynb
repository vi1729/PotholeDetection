{
  "nbformat": 4,
  "nbformat_minor": 0,
  "metadata": {
    "colab": {
      "name": "Maskrcnn_custom_tf_colab.ipynb",
      "provenance": [],
      "collapsed_sections": [],
      "toc_visible": true,
      "include_colab_link": true
    },
    "kernelspec": {
      "name": "python3",
      "display_name": "Python 3"
    },
    "accelerator": "GPU"
  },
  "cells": [
    {
      "cell_type": "markdown",
      "metadata": {
        "id": "view-in-github",
        "colab_type": "text"
      },
      "source": [
        "<a href=\"https://colab.research.google.com/github/vi1729/maskrcnn_train_tensorflow_colab/blob/master/Maskrcnn_custom_tf_colab.ipynb\" target=\"_parent\"><img src=\"https://colab.research.google.com/assets/colab-badge.svg\" alt=\"Open In Colab\"/></a>"
      ]
    },
    {
      "cell_type": "markdown",
      "metadata": {
        "id": "umEL6-vlmXmj",
        "colab_type": "text"
      },
      "source": [
        "#Making Dataset\n",
        "I generated dataset annotations with [VGG Image Annotator](http://www.robots.ox.ac.uk/~vgg/software/via/).\n",
        "\n",
        "Notebook train a model for one class object detection. It is possible to slightly modify notebook to train model for multiple classes.\n",
        "\n",
        "Before running notebook, we need to create dataset:\n",
        "\n",
        "\n",
        "1.   Collect various pictures of objects to detect\n",
        "3.   Create annotation files in VGG\n",
        "4.   Create image.zip file having structure defined below\n",
        "5.   Upload the zip file in your Google Drive\n",
        "\n",
        "Zip file structure:\n",
        "```\n",
        "images.zip\n",
        "|- \"train\" directory\n",
        "  |- jpg image files of training data\n",
        "  |- \"via_region_data.json\" annotations file of training data\n",
        "|- \"val\" directory\n",
        "  |- jpg image files of validation data\n",
        "  |- \"via_region_data.json\" annotations file of validation data\n",
        "```\n",
        "Check my image.zip file as dataset example."
      ]
    },
    {
      "cell_type": "markdown",
      "metadata": {
        "id": "nGiIgx6PQR_i",
        "colab_type": "text"
      },
      "source": [
        "#Mask R-CNN instance segmentation with custom dataset in Google Colab\n",
        "Jupyter notebook providing steps to train a **Matterport Mask R-CNN** model with custom dataset.\n",
        "\n",
        "It runs in [Google Colab](https://colab.research.google.com/) using [Matterport framework](https://github.com/matterport/Mask_RCNN) with TensorFlow backend.\n",
        "\n",
        "**Requirements are only dataset images and annotations file.**\n",
        "\n",
        "**Colab Runtime type: Python3, GPU enabled.**"
      ]
    },
    {
      "cell_type": "markdown",
      "metadata": {
        "id": "ywU9FM5qn6Wx",
        "colab_type": "text"
      },
      "source": [
        "#Install required packages"
      ]
    },
    {
      "cell_type": "code",
      "metadata": {
        "id": "39Wtm53bG7xW",
        "colab_type": "code",
        "outputId": "416f1724-2f60-4796-d650-b0f8fd89c240",
        "colab": {
          "base_uri": "https://localhost:8080/",
          "height": 123
        }
      },
      "source": [
        "%cd\n",
        "  \n",
        "!git clone https://github.com/matterport/Mask_RCNN.git"
      ],
      "execution_count": 0,
      "outputs": [
        {
          "output_type": "stream",
          "text": [
            "/root\n",
            "Cloning into 'Mask_RCNN'...\n",
            "remote: Enumerating objects: 956, done.\u001b[K\n",
            "remote: Total 956 (delta 0), reused 0 (delta 0), pack-reused 956\u001b[K\n",
            "Receiving objects: 100% (956/956), 116.75 MiB | 3.14 MiB/s, done.\n",
            "Resolving deltas: 100% (567/567), done.\n"
          ],
          "name": "stdout"
        }
      ]
    },
    {
      "cell_type": "code",
      "metadata": {
        "id": "GZY2h5buS9xb",
        "colab_type": "code",
        "outputId": "3f23d82d-0628-4691-d762-d995088bfd04",
        "colab": {
          "base_uri": "https://localhost:8080/",
          "height": 1000
        }
      },
      "source": [
        "%cd ~/Mask_RCNN\n",
        "%tensorflow_version 1.x\n",
        "!pip install -q PyDrive\n",
        "!pip install -r requirements.txt\n",
        "!python setup.py install"
      ],
      "execution_count": 0,
      "outputs": [
        {
          "output_type": "stream",
          "text": [
            "/root/Mask_RCNN\n",
            "TensorFlow 1.x selected.\n",
            "Requirement already satisfied: numpy in /usr/local/lib/python3.6/dist-packages (from -r requirements.txt (line 1)) (1.18.4)\n",
            "Requirement already satisfied: scipy in /usr/local/lib/python3.6/dist-packages (from -r requirements.txt (line 2)) (1.4.1)\n",
            "Requirement already satisfied: Pillow in /usr/local/lib/python3.6/dist-packages (from -r requirements.txt (line 3)) (7.0.0)\n",
            "Requirement already satisfied: cython in /usr/local/lib/python3.6/dist-packages (from -r requirements.txt (line 4)) (0.29.17)\n",
            "Requirement already satisfied: matplotlib in /usr/local/lib/python3.6/dist-packages (from -r requirements.txt (line 5)) (3.2.1)\n",
            "Requirement already satisfied: scikit-image in /usr/local/lib/python3.6/dist-packages (from -r requirements.txt (line 6)) (0.16.2)\n",
            "Requirement already satisfied: tensorflow>=1.3.0 in /tensorflow-1.15.2/python3.6 (from -r requirements.txt (line 7)) (1.15.2)\n",
            "Requirement already satisfied: keras>=2.0.8 in /usr/local/lib/python3.6/dist-packages (from -r requirements.txt (line 8)) (2.3.1)\n",
            "Requirement already satisfied: opencv-python in /usr/local/lib/python3.6/dist-packages (from -r requirements.txt (line 9)) (4.1.2.30)\n",
            "Requirement already satisfied: h5py in /usr/local/lib/python3.6/dist-packages (from -r requirements.txt (line 10)) (2.10.0)\n",
            "Requirement already satisfied: imgaug in /usr/local/lib/python3.6/dist-packages (from -r requirements.txt (line 11)) (0.2.9)\n",
            "Requirement already satisfied: IPython[all] in /usr/local/lib/python3.6/dist-packages (from -r requirements.txt (line 12)) (5.5.0)\n",
            "Requirement already satisfied: python-dateutil>=2.1 in /usr/local/lib/python3.6/dist-packages (from matplotlib->-r requirements.txt (line 5)) (2.8.1)\n",
            "Requirement already satisfied: cycler>=0.10 in /usr/local/lib/python3.6/dist-packages (from matplotlib->-r requirements.txt (line 5)) (0.10.0)\n",
            "Requirement already satisfied: kiwisolver>=1.0.1 in /usr/local/lib/python3.6/dist-packages (from matplotlib->-r requirements.txt (line 5)) (1.2.0)\n",
            "Requirement already satisfied: pyparsing!=2.0.4,!=2.1.2,!=2.1.6,>=2.0.1 in /usr/local/lib/python3.6/dist-packages (from matplotlib->-r requirements.txt (line 5)) (2.4.7)\n",
            "Requirement already satisfied: PyWavelets>=0.4.0 in /usr/local/lib/python3.6/dist-packages (from scikit-image->-r requirements.txt (line 6)) (1.1.1)\n",
            "Requirement already satisfied: networkx>=2.0 in /usr/local/lib/python3.6/dist-packages (from scikit-image->-r requirements.txt (line 6)) (2.4)\n",
            "Requirement already satisfied: imageio>=2.3.0 in /usr/local/lib/python3.6/dist-packages (from scikit-image->-r requirements.txt (line 6)) (2.4.1)\n",
            "Requirement already satisfied: tensorflow-estimator==1.15.1 in /tensorflow-1.15.2/python3.6 (from tensorflow>=1.3.0->-r requirements.txt (line 7)) (1.15.1)\n",
            "Requirement already satisfied: termcolor>=1.1.0 in /usr/local/lib/python3.6/dist-packages (from tensorflow>=1.3.0->-r requirements.txt (line 7)) (1.1.0)\n",
            "Requirement already satisfied: grpcio>=1.8.6 in /usr/local/lib/python3.6/dist-packages (from tensorflow>=1.3.0->-r requirements.txt (line 7)) (1.28.1)\n",
            "Collecting gast==0.2.2\n",
            "  Downloading https://files.pythonhosted.org/packages/4e/35/11749bf99b2d4e3cceb4d55ca22590b0d7c2c62b9de38ac4a4a7f4687421/gast-0.2.2.tar.gz\n",
            "Requirement already satisfied: google-pasta>=0.1.6 in /usr/local/lib/python3.6/dist-packages (from tensorflow>=1.3.0->-r requirements.txt (line 7)) (0.2.0)\n",
            "Requirement already satisfied: opt-einsum>=2.3.2 in /usr/local/lib/python3.6/dist-packages (from tensorflow>=1.3.0->-r requirements.txt (line 7)) (3.2.1)\n",
            "Requirement already satisfied: six>=1.10.0 in /usr/local/lib/python3.6/dist-packages (from tensorflow>=1.3.0->-r requirements.txt (line 7)) (1.12.0)\n",
            "Requirement already satisfied: keras-applications>=1.0.8 in /usr/local/lib/python3.6/dist-packages (from tensorflow>=1.3.0->-r requirements.txt (line 7)) (1.0.8)\n",
            "Requirement already satisfied: astor>=0.6.0 in /usr/local/lib/python3.6/dist-packages (from tensorflow>=1.3.0->-r requirements.txt (line 7)) (0.8.1)\n",
            "Requirement already satisfied: keras-preprocessing>=1.0.5 in /usr/local/lib/python3.6/dist-packages (from tensorflow>=1.3.0->-r requirements.txt (line 7)) (1.1.0)\n",
            "Requirement already satisfied: wrapt>=1.11.1 in /usr/local/lib/python3.6/dist-packages (from tensorflow>=1.3.0->-r requirements.txt (line 7)) (1.12.1)\n",
            "Requirement already satisfied: wheel>=0.26; python_version >= \"3\" in /usr/local/lib/python3.6/dist-packages (from tensorflow>=1.3.0->-r requirements.txt (line 7)) (0.34.2)\n",
            "Requirement already satisfied: protobuf>=3.6.1 in /usr/local/lib/python3.6/dist-packages (from tensorflow>=1.3.0->-r requirements.txt (line 7)) (3.10.0)\n",
            "Requirement already satisfied: tensorboard<1.16.0,>=1.15.0 in /tensorflow-1.15.2/python3.6 (from tensorflow>=1.3.0->-r requirements.txt (line 7)) (1.15.0)\n",
            "Requirement already satisfied: absl-py>=0.7.0 in /usr/local/lib/python3.6/dist-packages (from tensorflow>=1.3.0->-r requirements.txt (line 7)) (0.9.0)\n",
            "Requirement already satisfied: pyyaml in /usr/local/lib/python3.6/dist-packages (from keras>=2.0.8->-r requirements.txt (line 8)) (3.13)\n",
            "Requirement already satisfied: Shapely in /usr/local/lib/python3.6/dist-packages (from imgaug->-r requirements.txt (line 11)) (1.7.0)\n",
            "Requirement already satisfied: traitlets>=4.2 in /usr/local/lib/python3.6/dist-packages (from IPython[all]->-r requirements.txt (line 12)) (4.3.3)\n",
            "Requirement already satisfied: pickleshare in /usr/local/lib/python3.6/dist-packages (from IPython[all]->-r requirements.txt (line 12)) (0.7.5)\n",
            "Requirement already satisfied: decorator in /usr/local/lib/python3.6/dist-packages (from IPython[all]->-r requirements.txt (line 12)) (4.4.2)\n",
            "Requirement already satisfied: simplegeneric>0.8 in /usr/local/lib/python3.6/dist-packages (from IPython[all]->-r requirements.txt (line 12)) (0.8.1)\n",
            "Requirement already satisfied: pexpect; sys_platform != \"win32\" in /usr/local/lib/python3.6/dist-packages (from IPython[all]->-r requirements.txt (line 12)) (4.8.0)\n",
            "Requirement already satisfied: setuptools>=18.5 in /usr/local/lib/python3.6/dist-packages (from IPython[all]->-r requirements.txt (line 12)) (46.1.3)\n",
            "Requirement already satisfied: prompt-toolkit<2.0.0,>=1.0.4 in /usr/local/lib/python3.6/dist-packages (from IPython[all]->-r requirements.txt (line 12)) (1.0.18)\n",
            "Requirement already satisfied: pygments in /usr/local/lib/python3.6/dist-packages (from IPython[all]->-r requirements.txt (line 12)) (2.1.3)\n",
            "Requirement already satisfied: ipykernel; extra == \"all\" in /usr/local/lib/python3.6/dist-packages (from IPython[all]->-r requirements.txt (line 12)) (4.10.1)\n",
            "Requirement already satisfied: qtconsole; extra == \"all\" in /usr/local/lib/python3.6/dist-packages (from IPython[all]->-r requirements.txt (line 12)) (4.7.3)\n",
            "Requirement already satisfied: requests; extra == \"all\" in /usr/local/lib/python3.6/dist-packages (from IPython[all]->-r requirements.txt (line 12)) (2.23.0)\n",
            "Collecting nose>=0.10.1; extra == \"all\"\n",
            "\u001b[?25l  Downloading https://files.pythonhosted.org/packages/15/d8/dd071918c040f50fa1cf80da16423af51ff8ce4a0f2399b7bf8de45ac3d9/nose-1.3.7-py3-none-any.whl (154kB)\n",
            "\u001b[K     |████████████████████████████████| 163kB 19.2MB/s \n",
            "\u001b[?25hRequirement already satisfied: nbformat; extra == \"all\" in /usr/local/lib/python3.6/dist-packages (from IPython[all]->-r requirements.txt (line 12)) (5.0.6)\n",
            "Collecting ipyparallel; extra == \"all\"\n",
            "\u001b[?25l  Downloading https://files.pythonhosted.org/packages/3b/e9/03a9189eb39276396309faf28bf833b4328befe4513bbf375b811a36a076/ipyparallel-6.3.0-py3-none-any.whl (199kB)\n",
            "\u001b[K     |████████████████████████████████| 204kB 27.1MB/s \n",
            "\u001b[?25hRequirement already satisfied: nbconvert; extra == \"all\" in /usr/local/lib/python3.6/dist-packages (from IPython[all]->-r requirements.txt (line 12)) (5.6.1)\n",
            "Requirement already satisfied: notebook; extra == \"all\" in /usr/local/lib/python3.6/dist-packages (from IPython[all]->-r requirements.txt (line 12)) (5.2.2)\n",
            "Requirement already satisfied: ipywidgets; extra == \"all\" in /usr/local/lib/python3.6/dist-packages (from IPython[all]->-r requirements.txt (line 12)) (7.5.1)\n",
            "Requirement already satisfied: Sphinx>=1.3; extra == \"all\" in /usr/local/lib/python3.6/dist-packages (from IPython[all]->-r requirements.txt (line 12)) (1.8.5)\n",
            "Requirement already satisfied: testpath; extra == \"all\" in /usr/local/lib/python3.6/dist-packages (from IPython[all]->-r requirements.txt (line 12)) (0.4.4)\n",
            "Requirement already satisfied: markdown>=2.6.8 in /usr/local/lib/python3.6/dist-packages (from tensorboard<1.16.0,>=1.15.0->tensorflow>=1.3.0->-r requirements.txt (line 7)) (3.2.1)\n",
            "Requirement already satisfied: werkzeug>=0.11.15 in /usr/local/lib/python3.6/dist-packages (from tensorboard<1.16.0,>=1.15.0->tensorflow>=1.3.0->-r requirements.txt (line 7)) (1.0.1)\n",
            "Requirement already satisfied: ipython-genutils in /usr/local/lib/python3.6/dist-packages (from traitlets>=4.2->IPython[all]->-r requirements.txt (line 12)) (0.2.0)\n",
            "Requirement already satisfied: ptyprocess>=0.5 in /usr/local/lib/python3.6/dist-packages (from pexpect; sys_platform != \"win32\"->IPython[all]->-r requirements.txt (line 12)) (0.6.0)\n",
            "Requirement already satisfied: wcwidth in /usr/local/lib/python3.6/dist-packages (from prompt-toolkit<2.0.0,>=1.0.4->IPython[all]->-r requirements.txt (line 12)) (0.1.9)\n",
            "Requirement already satisfied: tornado>=4.0 in /usr/local/lib/python3.6/dist-packages (from ipykernel; extra == \"all\"->IPython[all]->-r requirements.txt (line 12)) (4.5.3)\n",
            "Requirement already satisfied: jupyter-client in /usr/local/lib/python3.6/dist-packages (from ipykernel; extra == \"all\"->IPython[all]->-r requirements.txt (line 12)) (5.3.4)\n",
            "Requirement already satisfied: qtpy in /usr/local/lib/python3.6/dist-packages (from qtconsole; extra == \"all\"->IPython[all]->-r requirements.txt (line 12)) (1.9.0)\n",
            "Requirement already satisfied: pyzmq>=17.1 in /usr/local/lib/python3.6/dist-packages (from qtconsole; extra == \"all\"->IPython[all]->-r requirements.txt (line 12)) (19.0.1)\n",
            "Requirement already satisfied: jupyter-core in /usr/local/lib/python3.6/dist-packages (from qtconsole; extra == \"all\"->IPython[all]->-r requirements.txt (line 12)) (4.6.3)\n",
            "Requirement already satisfied: chardet<4,>=3.0.2 in /usr/local/lib/python3.6/dist-packages (from requests; extra == \"all\"->IPython[all]->-r requirements.txt (line 12)) (3.0.4)\n",
            "Requirement already satisfied: urllib3!=1.25.0,!=1.25.1,<1.26,>=1.21.1 in /usr/local/lib/python3.6/dist-packages (from requests; extra == \"all\"->IPython[all]->-r requirements.txt (line 12)) (1.24.3)\n",
            "Requirement already satisfied: idna<3,>=2.5 in /usr/local/lib/python3.6/dist-packages (from requests; extra == \"all\"->IPython[all]->-r requirements.txt (line 12)) (2.9)\n",
            "Requirement already satisfied: certifi>=2017.4.17 in /usr/local/lib/python3.6/dist-packages (from requests; extra == \"all\"->IPython[all]->-r requirements.txt (line 12)) (2020.4.5.1)\n",
            "Requirement already satisfied: jsonschema!=2.5.0,>=2.4 in /usr/local/lib/python3.6/dist-packages (from nbformat; extra == \"all\"->IPython[all]->-r requirements.txt (line 12)) (2.6.0)\n",
            "Requirement already satisfied: jinja2>=2.4 in /usr/local/lib/python3.6/dist-packages (from nbconvert; extra == \"all\"->IPython[all]->-r requirements.txt (line 12)) (2.11.2)\n",
            "Requirement already satisfied: bleach in /usr/local/lib/python3.6/dist-packages (from nbconvert; extra == \"all\"->IPython[all]->-r requirements.txt (line 12)) (3.1.5)\n",
            "Requirement already satisfied: mistune<2,>=0.8.1 in /usr/local/lib/python3.6/dist-packages (from nbconvert; extra == \"all\"->IPython[all]->-r requirements.txt (line 12)) (0.8.4)\n",
            "Requirement already satisfied: defusedxml in /usr/local/lib/python3.6/dist-packages (from nbconvert; extra == \"all\"->IPython[all]->-r requirements.txt (line 12)) (0.6.0)\n",
            "Requirement already satisfied: pandocfilters>=1.4.1 in /usr/local/lib/python3.6/dist-packages (from nbconvert; extra == \"all\"->IPython[all]->-r requirements.txt (line 12)) (1.4.2)\n",
            "Requirement already satisfied: entrypoints>=0.2.2 in /usr/local/lib/python3.6/dist-packages (from nbconvert; extra == \"all\"->IPython[all]->-r requirements.txt (line 12)) (0.3)\n",
            "Requirement already satisfied: terminado>=0.3.3; sys_platform != \"win32\" in /usr/local/lib/python3.6/dist-packages (from notebook; extra == \"all\"->IPython[all]->-r requirements.txt (line 12)) (0.8.3)\n",
            "Requirement already satisfied: widgetsnbextension~=3.5.0 in /usr/local/lib/python3.6/dist-packages (from ipywidgets; extra == \"all\"->IPython[all]->-r requirements.txt (line 12)) (3.5.1)\n",
            "Requirement already satisfied: snowballstemmer>=1.1 in /usr/local/lib/python3.6/dist-packages (from Sphinx>=1.3; extra == \"all\"->IPython[all]->-r requirements.txt (line 12)) (2.0.0)\n",
            "Requirement already satisfied: packaging in /usr/local/lib/python3.6/dist-packages (from Sphinx>=1.3; extra == \"all\"->IPython[all]->-r requirements.txt (line 12)) (20.3)\n",
            "Requirement already satisfied: sphinxcontrib-websupport in /usr/local/lib/python3.6/dist-packages (from Sphinx>=1.3; extra == \"all\"->IPython[all]->-r requirements.txt (line 12)) (1.2.2)\n",
            "Requirement already satisfied: alabaster<0.8,>=0.7 in /usr/local/lib/python3.6/dist-packages (from Sphinx>=1.3; extra == \"all\"->IPython[all]->-r requirements.txt (line 12)) (0.7.12)\n",
            "Requirement already satisfied: docutils>=0.11 in /usr/local/lib/python3.6/dist-packages (from Sphinx>=1.3; extra == \"all\"->IPython[all]->-r requirements.txt (line 12)) (0.15.2)\n",
            "Requirement already satisfied: babel!=2.0,>=1.3 in /usr/local/lib/python3.6/dist-packages (from Sphinx>=1.3; extra == \"all\"->IPython[all]->-r requirements.txt (line 12)) (2.8.0)\n",
            "Requirement already satisfied: imagesize in /usr/local/lib/python3.6/dist-packages (from Sphinx>=1.3; extra == \"all\"->IPython[all]->-r requirements.txt (line 12)) (1.2.0)\n",
            "Requirement already satisfied: MarkupSafe>=0.23 in /usr/local/lib/python3.6/dist-packages (from jinja2>=2.4->nbconvert; extra == \"all\"->IPython[all]->-r requirements.txt (line 12)) (1.1.1)\n",
            "Requirement already satisfied: webencodings in /usr/local/lib/python3.6/dist-packages (from bleach->nbconvert; extra == \"all\"->IPython[all]->-r requirements.txt (line 12)) (0.5.1)\n",
            "Requirement already satisfied: pytz>=2015.7 in /usr/local/lib/python3.6/dist-packages (from babel!=2.0,>=1.3->Sphinx>=1.3; extra == \"all\"->IPython[all]->-r requirements.txt (line 12)) (2018.9)\n",
            "Building wheels for collected packages: gast\n",
            "  Building wheel for gast (setup.py) ... \u001b[?25l\u001b[?25hdone\n",
            "  Created wheel for gast: filename=gast-0.2.2-cp36-none-any.whl size=7540 sha256=11648368c970e17ccf550ac353b762cb96d7759efa86558a35d2f1ded7abde92\n",
            "  Stored in directory: /root/.cache/pip/wheels/5c/2e/7e/a1d4d4fcebe6c381f378ce7743a3ced3699feb89bcfbdadadd\n",
            "Successfully built gast\n",
            "Installing collected packages: gast, nose, ipyparallel\n",
            "  Found existing installation: gast 0.3.3\n",
            "    Uninstalling gast-0.3.3:\n",
            "      Successfully uninstalled gast-0.3.3\n",
            "Successfully installed gast-0.2.2 ipyparallel-6.3.0 nose-1.3.7\n",
            "WARNING:root:Fail load requirements file, so using default ones.\n",
            "running install\n",
            "running bdist_egg\n",
            "running egg_info\n",
            "creating mask_rcnn.egg-info\n",
            "writing mask_rcnn.egg-info/PKG-INFO\n",
            "writing dependency_links to mask_rcnn.egg-info/dependency_links.txt\n",
            "writing top-level names to mask_rcnn.egg-info/top_level.txt\n",
            "writing manifest file 'mask_rcnn.egg-info/SOURCES.txt'\n",
            "reading manifest template 'MANIFEST.in'\n",
            "writing manifest file 'mask_rcnn.egg-info/SOURCES.txt'\n",
            "installing library code to build/bdist.linux-x86_64/egg\n",
            "running install_lib\n",
            "running build_py\n",
            "creating build\n",
            "creating build/lib\n",
            "creating build/lib/mrcnn\n",
            "copying mrcnn/__init__.py -> build/lib/mrcnn\n",
            "copying mrcnn/utils.py -> build/lib/mrcnn\n",
            "copying mrcnn/config.py -> build/lib/mrcnn\n",
            "copying mrcnn/visualize.py -> build/lib/mrcnn\n",
            "copying mrcnn/parallel_model.py -> build/lib/mrcnn\n",
            "copying mrcnn/model.py -> build/lib/mrcnn\n",
            "creating build/bdist.linux-x86_64\n",
            "creating build/bdist.linux-x86_64/egg\n",
            "creating build/bdist.linux-x86_64/egg/mrcnn\n",
            "copying build/lib/mrcnn/__init__.py -> build/bdist.linux-x86_64/egg/mrcnn\n",
            "copying build/lib/mrcnn/utils.py -> build/bdist.linux-x86_64/egg/mrcnn\n",
            "copying build/lib/mrcnn/config.py -> build/bdist.linux-x86_64/egg/mrcnn\n",
            "copying build/lib/mrcnn/visualize.py -> build/bdist.linux-x86_64/egg/mrcnn\n",
            "copying build/lib/mrcnn/parallel_model.py -> build/bdist.linux-x86_64/egg/mrcnn\n",
            "copying build/lib/mrcnn/model.py -> build/bdist.linux-x86_64/egg/mrcnn\n",
            "byte-compiling build/bdist.linux-x86_64/egg/mrcnn/__init__.py to __init__.cpython-36.pyc\n",
            "byte-compiling build/bdist.linux-x86_64/egg/mrcnn/utils.py to utils.cpython-36.pyc\n",
            "byte-compiling build/bdist.linux-x86_64/egg/mrcnn/config.py to config.cpython-36.pyc\n",
            "byte-compiling build/bdist.linux-x86_64/egg/mrcnn/visualize.py to visualize.cpython-36.pyc\n",
            "byte-compiling build/bdist.linux-x86_64/egg/mrcnn/parallel_model.py to parallel_model.cpython-36.pyc\n",
            "byte-compiling build/bdist.linux-x86_64/egg/mrcnn/model.py to model.cpython-36.pyc\n",
            "creating build/bdist.linux-x86_64/egg/EGG-INFO\n",
            "copying mask_rcnn.egg-info/PKG-INFO -> build/bdist.linux-x86_64/egg/EGG-INFO\n",
            "copying mask_rcnn.egg-info/SOURCES.txt -> build/bdist.linux-x86_64/egg/EGG-INFO\n",
            "copying mask_rcnn.egg-info/dependency_links.txt -> build/bdist.linux-x86_64/egg/EGG-INFO\n",
            "copying mask_rcnn.egg-info/top_level.txt -> build/bdist.linux-x86_64/egg/EGG-INFO\n",
            "zip_safe flag not set; analyzing archive contents...\n",
            "creating dist\n",
            "creating 'dist/mask_rcnn-2.1-py3.6.egg' and adding 'build/bdist.linux-x86_64/egg' to it\n",
            "removing 'build/bdist.linux-x86_64/egg' (and everything under it)\n",
            "Processing mask_rcnn-2.1-py3.6.egg\n",
            "Copying mask_rcnn-2.1-py3.6.egg to /usr/local/lib/python3.6/dist-packages\n",
            "Adding mask-rcnn 2.1 to easy-install.pth file\n",
            "\n",
            "Installed /usr/local/lib/python3.6/dist-packages/mask_rcnn-2.1-py3.6.egg\n",
            "Processing dependencies for mask-rcnn==2.1\n",
            "Finished processing dependencies for mask-rcnn==2.1\n"
          ],
          "name": "stdout"
        }
      ]
    },
    {
      "cell_type": "code",
      "metadata": {
        "id": "Sj9PojTDOZfe",
        "colab_type": "code",
        "outputId": "80c9dcc4-2ecf-4a5f-9c33-3c3102990230",
        "colab": {
          "base_uri": "https://localhost:8080/",
          "height": 35
        }
      },
      "source": [
        "import tensorflow as tf\n",
        "device_name = tf.test.gpu_device_name()\n",
        "print(device_name)"
      ],
      "execution_count": 0,
      "outputs": [
        {
          "output_type": "stream",
          "text": [
            "/device:GPU:0\n"
          ],
          "name": "stdout"
        }
      ]
    },
    {
      "cell_type": "code",
      "metadata": {
        "id": "SFNmnxROObKx",
        "colab_type": "code",
        "outputId": "e75b1a36-002f-4a0b-a84f-c613cc304ce7",
        "colab": {
          "base_uri": "https://localhost:8080/",
          "height": 495
        }
      },
      "source": [
        "from tensorflow.python.client import device_lib\n",
        "device_lib.list_local_devices()"
      ],
      "execution_count": 0,
      "outputs": [
        {
          "output_type": "execute_result",
          "data": {
            "text/plain": [
              "[name: \"/device:CPU:0\"\n",
              " device_type: \"CPU\"\n",
              " memory_limit: 268435456\n",
              " locality {\n",
              " }\n",
              " incarnation: 16211775382561356878, name: \"/device:XLA_CPU:0\"\n",
              " device_type: \"XLA_CPU\"\n",
              " memory_limit: 17179869184\n",
              " locality {\n",
              " }\n",
              " incarnation: 14523617661006451344\n",
              " physical_device_desc: \"device: XLA_CPU device\", name: \"/device:XLA_GPU:0\"\n",
              " device_type: \"XLA_GPU\"\n",
              " memory_limit: 17179869184\n",
              " locality {\n",
              " }\n",
              " incarnation: 10142198976102812268\n",
              " physical_device_desc: \"device: XLA_GPU device\", name: \"/device:GPU:0\"\n",
              " device_type: \"GPU\"\n",
              " memory_limit: 14912199066\n",
              " locality {\n",
              "   bus_id: 1\n",
              "   links {\n",
              "   }\n",
              " }\n",
              " incarnation: 11715899947118667564\n",
              " physical_device_desc: \"device: 0, name: Tesla T4, pci bus id: 0000:00:04.0, compute capability: 7.5\"]"
            ]
          },
          "metadata": {
            "tags": []
          },
          "execution_count": 4
        }
      ]
    },
    {
      "cell_type": "code",
      "metadata": {
        "id": "ira3IAqnObbN",
        "colab_type": "code",
        "outputId": "10a512b5-2ff0-42a6-ecaf-e7040c941210",
        "colab": {
          "base_uri": "https://localhost:8080/",
          "height": 848
        }
      },
      "source": [
        "!cat /proc/meminfo"
      ],
      "execution_count": 0,
      "outputs": [
        {
          "output_type": "stream",
          "text": [
            "MemTotal:       13333556 kB\n",
            "MemFree:         9345720 kB\n",
            "MemAvailable:   12222216 kB\n",
            "Buffers:           84912 kB\n",
            "Cached:          2914180 kB\n",
            "SwapCached:            0 kB\n",
            "Active:           883932 kB\n",
            "Inactive:        2671576 kB\n",
            "Active(anon):     508936 kB\n",
            "Inactive(anon):     8520 kB\n",
            "Active(file):     374996 kB\n",
            "Inactive(file):  2663056 kB\n",
            "Unevictable:           0 kB\n",
            "Mlocked:               0 kB\n",
            "SwapTotal:             0 kB\n",
            "SwapFree:              0 kB\n",
            "Dirty:              4152 kB\n",
            "Writeback:             0 kB\n",
            "AnonPages:        556428 kB\n",
            "Mapped:           437248 kB\n",
            "Shmem:              9140 kB\n",
            "Slab:             204124 kB\n",
            "SReclaimable:     158424 kB\n",
            "SUnreclaim:        45700 kB\n",
            "KernelStack:        3840 kB\n",
            "PageTables:         6572 kB\n",
            "NFS_Unstable:          0 kB\n",
            "Bounce:                0 kB\n",
            "WritebackTmp:          0 kB\n",
            "CommitLimit:     6666776 kB\n",
            "Committed_AS:    2731764 kB\n",
            "VmallocTotal:   34359738367 kB\n",
            "VmallocUsed:           0 kB\n",
            "VmallocChunk:          0 kB\n",
            "Percpu:              920 kB\n",
            "AnonHugePages:         0 kB\n",
            "ShmemHugePages:        0 kB\n",
            "ShmemPmdMapped:        0 kB\n",
            "HugePages_Total:       0\n",
            "HugePages_Free:        0\n",
            "HugePages_Rsvd:        0\n",
            "HugePages_Surp:        0\n",
            "Hugepagesize:       2048 kB\n",
            "Hugetlb:               0 kB\n",
            "DirectMap4k:      177340 kB\n",
            "DirectMap2M:     6113280 kB\n",
            "DirectMap1G:     9437184 kB\n"
          ],
          "name": "stdout"
        }
      ]
    },
    {
      "cell_type": "code",
      "metadata": {
        "id": "-gu2i_RoTyjd",
        "colab_type": "code",
        "outputId": "361406ef-1aa2-47be-8656-77fb30e3df78",
        "colab": {
          "base_uri": "https://localhost:8080/",
          "height": 125
        }
      },
      "source": [
        "from google.colab import drive\n",
        "drive.mount('/content/drive')"
      ],
      "execution_count": 0,
      "outputs": [
        {
          "output_type": "stream",
          "text": [
            "Go to this URL in a browser: https://accounts.google.com/o/oauth2/auth?client_id=947318989803-6bn6qk8qdgf4n4g3pfee6491hc0brc4i.apps.googleusercontent.com&redirect_uri=urn%3aietf%3awg%3aoauth%3a2.0%3aoob&response_type=code&scope=email%20https%3a%2f%2fwww.googleapis.com%2fauth%2fdocs.test%20https%3a%2f%2fwww.googleapis.com%2fauth%2fdrive%20https%3a%2f%2fwww.googleapis.com%2fauth%2fdrive.photos.readonly%20https%3a%2f%2fwww.googleapis.com%2fauth%2fpeopleapi.readonly\n",
            "\n",
            "Enter your authorization code:\n",
            "··········\n",
            "Mounted at /content/drive\n"
          ],
          "name": "stdout"
        }
      ]
    },
    {
      "cell_type": "code",
      "metadata": {
        "id": "wOIqElNDn9Zs",
        "colab_type": "code",
        "outputId": "4aa81f86-01f9-4c7a-db88-6cbf44a4d4bb",
        "colab": {
          "base_uri": "https://localhost:8080/",
          "height": 35
        }
      },
      "source": [
        "!pwd"
      ],
      "execution_count": 0,
      "outputs": [
        {
          "output_type": "stream",
          "text": [
            "/root/Mask_RCNN\n"
          ],
          "name": "stdout"
        }
      ]
    },
    {
      "cell_type": "code",
      "metadata": {
        "id": "QrjIfwXA68FB",
        "colab_type": "code",
        "outputId": "7d1dd3ba-ecbb-4e8e-ad09-767e74f1e1d7",
        "colab": {
          "base_uri": "https://localhost:8080/",
          "height": 35
        }
      },
      "source": [
        "%cd ~/Mask_RCNN\n",
        "import os\n",
        "from zipfile import ZipFile\n",
        "from shutil import copy\n",
        "from pydrive.auth import GoogleAuth\n",
        "from pydrive.drive import GoogleDrive\n",
        "from google.colab import auth\n",
        "from oauth2client.client import GoogleCredentials\n",
        "\n",
        "auth.authenticate_user()\n",
        "gauth = GoogleAuth()\n",
        "gauth.credentials = GoogleCredentials.get_application_default()\n",
        "drive = GoogleDrive(gauth)\n"
      ],
      "execution_count": 0,
      "outputs": [
        {
          "output_type": "stream",
          "text": [
            "/root/Mask_RCNN\n"
          ],
          "name": "stdout"
        }
      ]
    },
    {
      "cell_type": "code",
      "metadata": {
        "id": "2oFtzjo3oFQJ",
        "colab_type": "code",
        "outputId": "64b1b4d5-7853-4b5a-dcb4-2440a775bc59",
        "colab": {
          "base_uri": "https://localhost:8080/",
          "height": 55
        }
      },
      "source": [
        "drive.ListFile({'q': \"'13lw8rbmnlfXf1igpBDwDlvnzlSv_VfPg' in parents and trashed=false\"}).GetList()\n",
        "\n"
      ],
      "execution_count": 0,
      "outputs": [
        {
          "output_type": "execute_result",
          "data": {
            "text/plain": [
              "[GoogleDriveFile({'kind': 'drive#file', 'id': '1JohJijjGw3oFusaKd5sCApQqaix5pW8t', 'etag': '\"MTU4NDYwMDU2Mzg1OQ\"', 'selfLink': 'https://www.googleapis.com/drive/v2/files/1JohJijjGw3oFusaKd5sCApQqaix5pW8t', 'webContentLink': 'https://drive.google.com/uc?id=1JohJijjGw3oFusaKd5sCApQqaix5pW8t&export=download', 'alternateLink': 'https://drive.google.com/file/d/1JohJijjGw3oFusaKd5sCApQqaix5pW8t/view?usp=drivesdk', 'embedLink': 'https://drive.google.com/file/d/1JohJijjGw3oFusaKd5sCApQqaix5pW8t/preview?usp=drivesdk', 'iconLink': 'https://drive-thirdparty.googleusercontent.com/16/type/application/zip', 'title': 'pothole.zip', 'mimeType': 'application/zip', 'labels': {'starred': False, 'hidden': False, 'trashed': False, 'restricted': False, 'viewed': True}, 'copyRequiresWriterPermission': False, 'createdDate': '2020-03-19T06:49:23.859Z', 'modifiedDate': '2020-03-19T06:49:23.859Z', 'modifiedByMeDate': '2020-03-19T06:49:23.859Z', 'lastViewedByMeDate': '2020-05-06T13:58:51.222Z', 'markedViewedByMeDate': '1970-01-01T00:00:00.000Z', 'version': '11', 'parents': [{'kind': 'drive#parentReference', 'id': '13lw8rbmnlfXf1igpBDwDlvnzlSv_VfPg', 'selfLink': 'https://www.googleapis.com/drive/v2/files/1JohJijjGw3oFusaKd5sCApQqaix5pW8t/parents/13lw8rbmnlfXf1igpBDwDlvnzlSv_VfPg', 'parentLink': 'https://www.googleapis.com/drive/v2/files/13lw8rbmnlfXf1igpBDwDlvnzlSv_VfPg', 'isRoot': False}], 'downloadUrl': 'https://www.googleapis.com/drive/v2/files/1JohJijjGw3oFusaKd5sCApQqaix5pW8t?alt=media&source=downloadUrl', 'userPermission': {'kind': 'drive#permission', 'etag': '\"mJ9Wo8NUb5zC2NtEYK3NVnewl6o\"', 'id': 'me', 'selfLink': 'https://www.googleapis.com/drive/v2/files/1JohJijjGw3oFusaKd5sCApQqaix5pW8t/permissions/me', 'role': 'owner', 'type': 'user'}, 'originalFilename': 'pothole.zip', 'fileExtension': 'zip', 'md5Checksum': 'c9a84c0971e1045bce4c7a7f90ec324b', 'fileSize': '477021893', 'quotaBytesUsed': '477021893', 'ownerNames': ['Vijaya Kakumani'], 'owners': [{'kind': 'drive#user', 'displayName': 'Vijaya Kakumani', 'isAuthenticatedUser': True, 'permissionId': '04744793559573836964', 'emailAddress': 'vkakumani@incapsulate.com'}], 'lastModifyingUserName': 'Vijaya Kakumani', 'lastModifyingUser': {'kind': 'drive#user', 'displayName': 'Vijaya Kakumani', 'isAuthenticatedUser': True, 'permissionId': '04744793559573836964', 'emailAddress': 'vkakumani@incapsulate.com'}, 'capabilities': {'canCopy': True, 'canEdit': True}, 'editable': True, 'copyable': True, 'writersCanShare': True, 'shared': True, 'explicitlyTrashed': False, 'appDataContents': False, 'headRevisionId': '0B6HPS-PrPV--SW01L2U4a3RPY0NIbUdrb3dhb1ZpMGN5L0E4PQ', 'spaces': ['drive']})]"
            ]
          },
          "metadata": {
            "tags": []
          },
          "execution_count": 9
        }
      ]
    },
    {
      "cell_type": "code",
      "metadata": {
        "id": "QzGx__Mhk5S5",
        "colab_type": "code",
        "outputId": "d23ed4d2-c016-4d09-f8ee-5866ac6cc088",
        "colab": {
          "base_uri": "https://localhost:8080/",
          "height": 168
        }
      },
      "source": [
        "file_list"
      ],
      "execution_count": 0,
      "outputs": [
        {
          "output_type": "error",
          "ename": "NameError",
          "evalue": "ignored",
          "traceback": [
            "\u001b[0;31m---------------------------------------------------------------------------\u001b[0m",
            "\u001b[0;31mNameError\u001b[0m                                 Traceback (most recent call last)",
            "\u001b[0;32m<ipython-input-11-8ac3bb17a57c>\u001b[0m in \u001b[0;36m<module>\u001b[0;34m()\u001b[0m\n\u001b[0;32m----> 1\u001b[0;31m \u001b[0mfile_list\u001b[0m\u001b[0;34m\u001b[0m\u001b[0;34m\u001b[0m\u001b[0m\n\u001b[0m",
            "\u001b[0;31mNameError\u001b[0m: name 'file_list' is not defined"
          ]
        }
      ]
    },
    {
      "cell_type": "markdown",
      "metadata": {
        "id": "6zZg68_koGU7",
        "colab_type": "text"
      },
      "source": [
        "#Download and extract dataset\n",
        "Update fileId variable with Google Drive id of your image.zip dataset\n"
      ]
    },
    {
      "cell_type": "code",
      "metadata": {
        "id": "DnSlrBVH55SI",
        "colab_type": "code",
        "outputId": "5c64a8de-3a61-48d1-e7ac-58fd9428afe5",
        "colab": {
          "base_uri": "https://localhost:8080/",
          "height": 52
        }
      },
      "source": [
        "\n",
        "%cd ~/Mask_RCNN\n",
        "\n",
        "\n",
        "fileId = '1AyviUfItYuN8krlgfZBwf_Znvu5OH2sy'\n",
        "\n",
        "import os\n",
        "from zipfile import ZipFile\n",
        "from shutil import copy\n",
        "from pydrive.auth import GoogleAuth\n",
        "from pydrive.drive import GoogleDrive\n",
        "from google.colab import auth\n",
        "from oauth2client.client import GoogleCredentials\n",
        "\n",
        "os.makedirs('dataset')\n",
        "os.chdir('dataset')\n",
        "\n",
        "auth.authenticate_user()\n",
        "gauth = GoogleAuth()\n",
        "gauth.credentials = GoogleCredentials.get_application_default()\n",
        "drive = GoogleDrive(gauth)\n",
        "\n",
        "fileName = fileId + '.zip'\n",
        "downloaded = drive.CreateFile({'id': fileId})\n",
        "downloaded.GetContentFile(fileName)\n",
        "ds = ZipFile(fileName)\n",
        "ds.extractall()\n",
        "os.remove(fileName)\n",
        "print('Extracted zip file ' + fileName)"
      ],
      "execution_count": 0,
      "outputs": [
        {
          "output_type": "stream",
          "text": [
            "/root/Mask_RCNN\n",
            "Extracted zip file 1AyviUfItYuN8krlgfZBwf_Znvu5OH2sy.zip\n"
          ],
          "name": "stdout"
        }
      ]
    },
    {
      "cell_type": "code",
      "metadata": {
        "id": "uoWfAeu4iBQJ",
        "colab_type": "code",
        "outputId": "01453d9b-d8bb-4cd8-d8db-24588fe330c2",
        "colab": {
          "base_uri": "https://localhost:8080/",
          "height": 35
        }
      },
      "source": [
        "# import shutil\n",
        "\n",
        "# %cd ~/Mask_RCNN\n",
        "# shutil.rmtree('dataset', ignore_errors=True)"
      ],
      "execution_count": 0,
      "outputs": [
        {
          "output_type": "stream",
          "text": [
            "/root/Mask_RCNN\n"
          ],
          "name": "stdout"
        }
      ]
    },
    {
      "cell_type": "markdown",
      "metadata": {
        "id": "4Hjjc40apLpd",
        "colab_type": "text"
      },
      "source": [
        "#Edit settings file\n",
        "*  find and replace occurrences of \"balloon\" and \"Balloon\" with name of your object\n",
        "*  set epochs number\n"
      ]
    },
    {
      "cell_type": "code",
      "metadata": {
        "id": "0SVHFnl5Hwe3",
        "colab_type": "code",
        "outputId": "7ace9aab-a41c-4d22-d4d9-ea5f96138857",
        "colab": {
          "base_uri": "https://localhost:8080/",
          "height": 35
        }
      },
      "source": [
        "%cd ~/Mask_RCNN\n",
        "\n",
        "!cp ~/Mask_RCNN/samples/balloon/balloon.py ./pothole.py\n",
        "\n",
        "!sed -i -- 's/balloon/pothole/g' pothole.py\n",
        "!sed -i -- 's/Balloon/Pothole/g' pothole.py\n",
        "!sed -i -- 's/epochs=30/epochs=100/g' pothole.py\n",
        "!sed -i -- 's/GPU_COUNT = 1/GPU_COUNT = 2/' pothole.py\n",
        "!sed -i -- 's/IMAGES_PER_GPU = 2/IMAGES_PER_GPU = 3/' pothole.py\n"
      ],
      "execution_count": 0,
      "outputs": [
        {
          "output_type": "stream",
          "text": [
            "/root/Mask_RCNN\n"
          ],
          "name": "stdout"
        }
      ]
    },
    {
      "cell_type": "code",
      "metadata": {
        "id": "HfjVG1JYSYzO",
        "colab_type": "code",
        "colab": {}
      },
      "source": [
        ""
      ],
      "execution_count": 0,
      "outputs": []
    },
    {
      "cell_type": "markdown",
      "metadata": {
        "id": "AjmxrVOwq0rC",
        "colab_type": "text"
      },
      "source": [
        "#Train model\n",
        "Pretrained weights options are COCO, ImageNet or a model trained before"
      ]
    },
    {
      "cell_type": "code",
      "metadata": {
        "id": "EJGrimv2Xuf3",
        "colab_type": "code",
        "outputId": "2fcc42b4-7492-4556-826b-bbe0d94b9e3a",
        "colab": {
          "base_uri": "https://localhost:8080/",
          "height": 1000
        }
      },
      "source": [
        "%cd ~/Mask_RCNN\n",
        "\n",
        "!python pothole.py train --dataset=dataset/ --weights=coco"
      ],
      "execution_count": 0,
      "outputs": [
        {
          "output_type": "stream",
          "text": [
            "/root/Mask_RCNN\n",
            "Using TensorFlow backend.\n",
            "Weights:  coco\n",
            "Dataset:  dataset/\n",
            "Logs:  /logs\n",
            "\n",
            "Configurations:\n",
            "BACKBONE                       resnet101\n",
            "BACKBONE_STRIDES               [4, 8, 16, 32, 64]\n",
            "BATCH_SIZE                     3\n",
            "BBOX_STD_DEV                   [0.1 0.1 0.2 0.2]\n",
            "COMPUTE_BACKBONE_SHAPE         None\n",
            "DETECTION_MAX_INSTANCES        100\n",
            "DETECTION_MIN_CONFIDENCE       0.9\n",
            "DETECTION_NMS_THRESHOLD        0.3\n",
            "FPN_CLASSIF_FC_LAYERS_SIZE     1024\n",
            "GPU_COUNT                      1\n",
            "GRADIENT_CLIP_NORM             5.0\n",
            "IMAGES_PER_GPU                 3\n",
            "IMAGE_CHANNEL_COUNT            3\n",
            "IMAGE_MAX_DIM                  1024\n",
            "IMAGE_META_SIZE                14\n",
            "IMAGE_MIN_DIM                  800\n",
            "IMAGE_MIN_SCALE                0\n",
            "IMAGE_RESIZE_MODE              square\n",
            "IMAGE_SHAPE                    [1024 1024    3]\n",
            "LEARNING_MOMENTUM              0.9\n",
            "LEARNING_RATE                  0.001\n",
            "LOSS_WEIGHTS                   {'rpn_class_loss': 1.0, 'rpn_bbox_loss': 1.0, 'mrcnn_class_loss': 1.0, 'mrcnn_bbox_loss': 1.0, 'mrcnn_mask_loss': 1.0}\n",
            "MASK_POOL_SIZE                 14\n",
            "MASK_SHAPE                     [28, 28]\n",
            "MAX_GT_INSTANCES               100\n",
            "MEAN_PIXEL                     [123.7 116.8 103.9]\n",
            "MINI_MASK_SHAPE                (56, 56)\n",
            "NAME                           pothole\n",
            "NUM_CLASSES                    2\n",
            "POOL_SIZE                      7\n",
            "POST_NMS_ROIS_INFERENCE        1000\n",
            "POST_NMS_ROIS_TRAINING         2000\n",
            "PRE_NMS_LIMIT                  6000\n",
            "ROI_POSITIVE_RATIO             0.33\n",
            "RPN_ANCHOR_RATIOS              [0.5, 1, 2]\n",
            "RPN_ANCHOR_SCALES              (32, 64, 128, 256, 512)\n",
            "RPN_ANCHOR_STRIDE              1\n",
            "RPN_BBOX_STD_DEV               [0.1 0.1 0.2 0.2]\n",
            "RPN_NMS_THRESHOLD              0.7\n",
            "RPN_TRAIN_ANCHORS_PER_IMAGE    256\n",
            "STEPS_PER_EPOCH                100\n",
            "TOP_DOWN_PYRAMID_SIZE          256\n",
            "TRAIN_BN                       False\n",
            "TRAIN_ROIS_PER_IMAGE           200\n",
            "USE_MINI_MASK                  True\n",
            "USE_RPN_ROIS                   True\n",
            "VALIDATION_STEPS               50\n",
            "WEIGHT_DECAY                   0.0001\n",
            "\n",
            "\n",
            "WARNING:tensorflow:From /usr/local/lib/python3.6/dist-packages/keras/backend/tensorflow_backend.py:541: The name tf.placeholder is deprecated. Please use tf.compat.v1.placeholder instead.\n",
            "\n",
            "WARNING:tensorflow:From /usr/local/lib/python3.6/dist-packages/keras/backend/tensorflow_backend.py:66: The name tf.get_default_graph is deprecated. Please use tf.compat.v1.get_default_graph instead.\n",
            "\n",
            "WARNING:tensorflow:From /usr/local/lib/python3.6/dist-packages/keras/backend/tensorflow_backend.py:4432: The name tf.random_uniform is deprecated. Please use tf.random.uniform instead.\n",
            "\n",
            "WARNING:tensorflow:From /usr/local/lib/python3.6/dist-packages/keras/backend/tensorflow_backend.py:2139: The name tf.nn.fused_batch_norm is deprecated. Please use tf.compat.v1.nn.fused_batch_norm instead.\n",
            "\n",
            "WARNING:tensorflow:From /usr/local/lib/python3.6/dist-packages/keras/backend/tensorflow_backend.py:4267: The name tf.nn.max_pool is deprecated. Please use tf.nn.max_pool2d instead.\n",
            "\n",
            "WARNING:tensorflow:From /usr/local/lib/python3.6/dist-packages/keras/backend/tensorflow_backend.py:2239: The name tf.image.resize_nearest_neighbor is deprecated. Please use tf.compat.v1.image.resize_nearest_neighbor instead.\n",
            "\n",
            "WARNING:tensorflow:From /tensorflow-1.15.0/python3.6/tensorflow_core/python/ops/array_ops.py:1475: where (from tensorflow.python.ops.array_ops) is deprecated and will be removed in a future version.\n",
            "Instructions for updating:\n",
            "Use tf.where in 2.0, which has the same broadcast rule as np.where\n",
            "WARNING:tensorflow:From /root/Mask_RCNN/mrcnn/model.py:553: The name tf.random_shuffle is deprecated. Please use tf.random.shuffle instead.\n",
            "\n",
            "WARNING:tensorflow:From /root/Mask_RCNN/mrcnn/utils.py:202: The name tf.log is deprecated. Please use tf.math.log instead.\n",
            "\n",
            "WARNING:tensorflow:From /root/Mask_RCNN/mrcnn/model.py:600: calling crop_and_resize_v1 (from tensorflow.python.ops.image_ops_impl) with box_ind is deprecated and will be removed in a future version.\n",
            "Instructions for updating:\n",
            "box_ind is deprecated, use box_indices instead\n",
            "Loading weights  /mask_rcnn_coco.h5\n",
            "WARNING:tensorflow:From /usr/local/lib/python3.6/dist-packages/keras/backend/tensorflow_backend.py:190: The name tf.get_default_session is deprecated. Please use tf.compat.v1.get_default_session instead.\n",
            "\n",
            "WARNING:tensorflow:From /usr/local/lib/python3.6/dist-packages/keras/backend/tensorflow_backend.py:197: The name tf.ConfigProto is deprecated. Please use tf.compat.v1.ConfigProto instead.\n",
            "\n",
            "WARNING:tensorflow:From /usr/local/lib/python3.6/dist-packages/keras/backend/tensorflow_backend.py:203: The name tf.Session is deprecated. Please use tf.compat.v1.Session instead.\n",
            "\n",
            "2020-03-19 07:43:43.279056: I tensorflow/core/platform/profile_utils/cpu_utils.cc:94] CPU Frequency: 2200000000 Hz\n",
            "2020-03-19 07:43:43.279264: I tensorflow/compiler/xla/service/service.cc:168] XLA service 0x1b152a00 initialized for platform Host (this does not guarantee that XLA will be used). Devices:\n",
            "2020-03-19 07:43:43.279296: I tensorflow/compiler/xla/service/service.cc:176]   StreamExecutor device (0): Host, Default Version\n",
            "2020-03-19 07:43:43.281114: I tensorflow/stream_executor/platform/default/dso_loader.cc:44] Successfully opened dynamic library libcuda.so.1\n",
            "2020-03-19 07:43:43.370573: I tensorflow/stream_executor/cuda/cuda_gpu_executor.cc:983] successful NUMA node read from SysFS had negative value (-1), but there must be at least one NUMA node, so returning NUMA node zero\n",
            "2020-03-19 07:43:43.371318: I tensorflow/compiler/xla/service/service.cc:168] XLA service 0x1b152bc0 initialized for platform CUDA (this does not guarantee that XLA will be used). Devices:\n",
            "2020-03-19 07:43:43.371343: I tensorflow/compiler/xla/service/service.cc:176]   StreamExecutor device (0): Tesla P100-PCIE-16GB, Compute Capability 6.0\n",
            "2020-03-19 07:43:43.371499: I tensorflow/stream_executor/cuda/cuda_gpu_executor.cc:983] successful NUMA node read from SysFS had negative value (-1), but there must be at least one NUMA node, so returning NUMA node zero\n",
            "2020-03-19 07:43:43.372026: I tensorflow/core/common_runtime/gpu/gpu_device.cc:1618] Found device 0 with properties: \n",
            "name: Tesla P100-PCIE-16GB major: 6 minor: 0 memoryClockRate(GHz): 1.3285\n",
            "pciBusID: 0000:00:04.0\n",
            "2020-03-19 07:43:43.372308: I tensorflow/stream_executor/platform/default/dso_loader.cc:44] Successfully opened dynamic library libcudart.so.10.1\n",
            "2020-03-19 07:43:43.373811: I tensorflow/stream_executor/platform/default/dso_loader.cc:44] Successfully opened dynamic library libcublas.so.10\n",
            "2020-03-19 07:43:43.375335: I tensorflow/stream_executor/platform/default/dso_loader.cc:44] Successfully opened dynamic library libcufft.so.10\n",
            "2020-03-19 07:43:43.375673: I tensorflow/stream_executor/platform/default/dso_loader.cc:44] Successfully opened dynamic library libcurand.so.10\n",
            "2020-03-19 07:43:43.377115: I tensorflow/stream_executor/platform/default/dso_loader.cc:44] Successfully opened dynamic library libcusolver.so.10\n",
            "2020-03-19 07:43:43.377812: I tensorflow/stream_executor/platform/default/dso_loader.cc:44] Successfully opened dynamic library libcusparse.so.10\n",
            "2020-03-19 07:43:43.380890: I tensorflow/stream_executor/platform/default/dso_loader.cc:44] Successfully opened dynamic library libcudnn.so.7\n",
            "2020-03-19 07:43:43.380985: I tensorflow/stream_executor/cuda/cuda_gpu_executor.cc:983] successful NUMA node read from SysFS had negative value (-1), but there must be at least one NUMA node, so returning NUMA node zero\n",
            "2020-03-19 07:43:43.381580: I tensorflow/stream_executor/cuda/cuda_gpu_executor.cc:983] successful NUMA node read from SysFS had negative value (-1), but there must be at least one NUMA node, so returning NUMA node zero\n",
            "2020-03-19 07:43:43.382040: I tensorflow/core/common_runtime/gpu/gpu_device.cc:1746] Adding visible gpu devices: 0\n",
            "2020-03-19 07:43:43.382086: I tensorflow/stream_executor/platform/default/dso_loader.cc:44] Successfully opened dynamic library libcudart.so.10.1\n",
            "2020-03-19 07:43:43.383363: I tensorflow/core/common_runtime/gpu/gpu_device.cc:1159] Device interconnect StreamExecutor with strength 1 edge matrix:\n",
            "2020-03-19 07:43:43.383385: I tensorflow/core/common_runtime/gpu/gpu_device.cc:1165]      0 \n",
            "2020-03-19 07:43:43.383395: I tensorflow/core/common_runtime/gpu/gpu_device.cc:1178] 0:   N \n",
            "2020-03-19 07:43:43.383497: I tensorflow/stream_executor/cuda/cuda_gpu_executor.cc:983] successful NUMA node read from SysFS had negative value (-1), but there must be at least one NUMA node, so returning NUMA node zero\n",
            "2020-03-19 07:43:43.384024: I tensorflow/stream_executor/cuda/cuda_gpu_executor.cc:983] successful NUMA node read from SysFS had negative value (-1), but there must be at least one NUMA node, so returning NUMA node zero\n",
            "2020-03-19 07:43:43.384598: W tensorflow/core/common_runtime/gpu/gpu_bfc_allocator.cc:39] Overriding allow_growth setting because the TF_FORCE_GPU_ALLOW_GROWTH environment variable is set. Original config value was 0.\n",
            "2020-03-19 07:43:43.384638: I tensorflow/core/common_runtime/gpu/gpu_device.cc:1304] Created TensorFlow device (/job:localhost/replica:0/task:0/device:GPU:0 with 14974 MB memory) -> physical GPU (device: 0, name: Tesla P100-PCIE-16GB, pci bus id: 0000:00:04.0, compute capability: 6.0)\n",
            "WARNING:tensorflow:From /usr/local/lib/python3.6/dist-packages/keras/backend/tensorflow_backend.py:207: The name tf.global_variables is deprecated. Please use tf.compat.v1.global_variables instead.\n",
            "\n",
            "WARNING:tensorflow:From /usr/local/lib/python3.6/dist-packages/keras/backend/tensorflow_backend.py:216: The name tf.is_variable_initialized is deprecated. Please use tf.compat.v1.is_variable_initialized instead.\n",
            "\n",
            "WARNING:tensorflow:From /usr/local/lib/python3.6/dist-packages/keras/backend/tensorflow_backend.py:223: The name tf.variables_initializer is deprecated. Please use tf.compat.v1.variables_initializer instead.\n",
            "\n",
            "Training network heads\n",
            "\n",
            "Starting at epoch 0. LR=0.001\n",
            "\n",
            "Checkpoint Path: /logs/pothole20200319T0743/mask_rcnn_pothole_{epoch:04d}.h5\n",
            "Selecting layers to train\n",
            "fpn_c5p5               (Conv2D)\n",
            "fpn_c4p4               (Conv2D)\n",
            "fpn_c3p3               (Conv2D)\n",
            "fpn_c2p2               (Conv2D)\n",
            "fpn_p5                 (Conv2D)\n",
            "fpn_p2                 (Conv2D)\n",
            "fpn_p3                 (Conv2D)\n",
            "fpn_p4                 (Conv2D)\n",
            "In model:  rpn_model\n",
            "    rpn_conv_shared        (Conv2D)\n",
            "    rpn_class_raw          (Conv2D)\n",
            "    rpn_bbox_pred          (Conv2D)\n",
            "mrcnn_mask_conv1       (TimeDistributed)\n",
            "mrcnn_mask_bn1         (TimeDistributed)\n",
            "mrcnn_mask_conv2       (TimeDistributed)\n",
            "mrcnn_mask_bn2         (TimeDistributed)\n",
            "mrcnn_class_conv1      (TimeDistributed)\n",
            "mrcnn_class_bn1        (TimeDistributed)\n",
            "mrcnn_mask_conv3       (TimeDistributed)\n",
            "mrcnn_mask_bn3         (TimeDistributed)\n",
            "mrcnn_class_conv2      (TimeDistributed)\n",
            "mrcnn_class_bn2        (TimeDistributed)\n",
            "mrcnn_mask_conv4       (TimeDistributed)\n",
            "mrcnn_mask_bn4         (TimeDistributed)\n",
            "mrcnn_bbox_fc          (TimeDistributed)\n",
            "mrcnn_mask_deconv      (TimeDistributed)\n",
            "mrcnn_class_logits     (TimeDistributed)\n",
            "mrcnn_mask             (TimeDistributed)\n",
            "WARNING:tensorflow:From /usr/local/lib/python3.6/dist-packages/keras/optimizers.py:793: The name tf.train.Optimizer is deprecated. Please use tf.compat.v1.train.Optimizer instead.\n",
            "\n",
            "/tensorflow-1.15.0/python3.6/tensorflow_core/python/framework/indexed_slices.py:424: UserWarning: Converting sparse IndexedSlices to a dense Tensor of unknown shape. This may consume a large amount of memory.\n",
            "  \"Converting sparse IndexedSlices to a dense Tensor of unknown shape. \"\n",
            "/tensorflow-1.15.0/python3.6/tensorflow_core/python/framework/indexed_slices.py:424: UserWarning: Converting sparse IndexedSlices to a dense Tensor of unknown shape. This may consume a large amount of memory.\n",
            "  \"Converting sparse IndexedSlices to a dense Tensor of unknown shape. \"\n",
            "/tensorflow-1.15.0/python3.6/tensorflow_core/python/framework/indexed_slices.py:424: UserWarning: Converting sparse IndexedSlices to a dense Tensor of unknown shape. This may consume a large amount of memory.\n",
            "  \"Converting sparse IndexedSlices to a dense Tensor of unknown shape. \"\n",
            "WARNING:tensorflow:From /usr/local/lib/python3.6/dist-packages/keras/backend/tensorflow_backend.py:1033: The name tf.assign_add is deprecated. Please use tf.compat.v1.assign_add instead.\n",
            "\n",
            "WARNING:tensorflow:From /usr/local/lib/python3.6/dist-packages/keras/backend/tensorflow_backend.py:1020: The name tf.assign is deprecated. Please use tf.compat.v1.assign instead.\n",
            "\n",
            "/usr/local/lib/python3.6/dist-packages/keras/engine/training_generator.py:49: UserWarning: Using a generator with `use_multiprocessing=True` and multiple workers may duplicate your data. Please consider using the `keras.utils.Sequence class.\n",
            "  UserWarning('Using a generator with `use_multiprocessing=True`'\n",
            "WARNING:tensorflow:From /usr/local/lib/python3.6/dist-packages/keras/callbacks.py:1122: The name tf.summary.merge_all is deprecated. Please use tf.compat.v1.summary.merge_all instead.\n",
            "\n",
            "WARNING:tensorflow:From /usr/local/lib/python3.6/dist-packages/keras/callbacks.py:1125: The name tf.summary.FileWriter is deprecated. Please use tf.compat.v1.summary.FileWriter instead.\n",
            "\n",
            "Epoch 1/100\n",
            "2020-03-19 07:44:27.774407: I tensorflow/stream_executor/platform/default/dso_loader.cc:44] Successfully opened dynamic library libcublas.so.10\n",
            "2020-03-19 07:44:29.478522: I tensorflow/stream_executor/platform/default/dso_loader.cc:44] Successfully opened dynamic library libcudnn.so.7\n",
            "2020-03-19 07:44:40.609206: W tensorflow/core/common_runtime/bfc_allocator.cc:239] Allocator (GPU_0_bfc) ran out of memory trying to allocate 3.59GiB with freed_by_count=0. The caller indicates that this is not a failure, but may mean that there could be performance gains if more memory were available.\n",
            "100/100 [==============================] - 159s 2s/step - loss: 2.5129 - rpn_class_loss: 0.1986 - rpn_bbox_loss: 1.1899 - mrcnn_class_loss: 0.0356 - mrcnn_bbox_loss: 0.6913 - mrcnn_mask_loss: 0.3975 - val_loss: 2.0783 - val_rpn_class_loss: 0.1074 - val_rpn_bbox_loss: 0.9155 - val_mrcnn_class_loss: 0.0107 - val_mrcnn_bbox_loss: 0.5921 - val_mrcnn_mask_loss: 0.4527\n",
            "WARNING:tensorflow:From /usr/local/lib/python3.6/dist-packages/keras/callbacks.py:1265: The name tf.Summary is deprecated. Please use tf.compat.v1.Summary instead.\n",
            "\n",
            "Epoch 2/100\n",
            "100/100 [==============================] - 100s 1s/step - loss: 2.0178 - rpn_class_loss: 0.0908 - rpn_bbox_loss: 0.9221 - mrcnn_class_loss: 0.0279 - mrcnn_bbox_loss: 0.5587 - mrcnn_mask_loss: 0.4183 - val_loss: 1.9358 - val_rpn_class_loss: 0.0819 - val_rpn_bbox_loss: 0.8679 - val_mrcnn_class_loss: 0.0131 - val_mrcnn_bbox_loss: 0.6183 - val_mrcnn_mask_loss: 0.3546\n",
            "Epoch 3/100\n",
            "100/100 [==============================] - 103s 1s/step - loss: 2.0244 - rpn_class_loss: 0.0747 - rpn_bbox_loss: 0.9750 - mrcnn_class_loss: 0.0379 - mrcnn_bbox_loss: 0.4976 - mrcnn_mask_loss: 0.4392 - val_loss: 1.8950 - val_rpn_class_loss: 0.0811 - val_rpn_bbox_loss: 0.8113 - val_mrcnn_class_loss: 0.0240 - val_mrcnn_bbox_loss: 0.5231 - val_mrcnn_mask_loss: 0.4556\n",
            "Epoch 4/100\n",
            "100/100 [==============================] - 101s 1s/step - loss: 1.9140 - rpn_class_loss: 0.0696 - rpn_bbox_loss: 0.9356 - mrcnn_class_loss: 0.0307 - mrcnn_bbox_loss: 0.4516 - mrcnn_mask_loss: 0.4266 - val_loss: 1.7902 - val_rpn_class_loss: 0.0839 - val_rpn_bbox_loss: 0.6303 - val_mrcnn_class_loss: 0.0164 - val_mrcnn_bbox_loss: 0.5777 - val_mrcnn_mask_loss: 0.4818\n",
            "Epoch 5/100\n",
            "100/100 [==============================] - 101s 1s/step - loss: 1.8030 - rpn_class_loss: 0.0624 - rpn_bbox_loss: 0.8924 - mrcnn_class_loss: 0.0285 - mrcnn_bbox_loss: 0.4109 - mrcnn_mask_loss: 0.4088 - val_loss: 1.9559 - val_rpn_class_loss: 0.0826 - val_rpn_bbox_loss: 0.9902 - val_mrcnn_class_loss: 0.0086 - val_mrcnn_bbox_loss: 0.4876 - val_mrcnn_mask_loss: 0.3869\n",
            "Epoch 6/100\n",
            "100/100 [==============================] - 102s 1s/step - loss: 1.6902 - rpn_class_loss: 0.0606 - rpn_bbox_loss: 0.7600 - mrcnn_class_loss: 0.0336 - mrcnn_bbox_loss: 0.4181 - mrcnn_mask_loss: 0.4179 - val_loss: 1.8839 - val_rpn_class_loss: 0.0920 - val_rpn_bbox_loss: 0.6787 - val_mrcnn_class_loss: 0.0112 - val_mrcnn_bbox_loss: 0.5859 - val_mrcnn_mask_loss: 0.5161\n",
            "Epoch 7/100\n",
            "100/100 [==============================] - 102s 1s/step - loss: 1.6756 - rpn_class_loss: 0.0530 - rpn_bbox_loss: 0.7729 - mrcnn_class_loss: 0.0362 - mrcnn_bbox_loss: 0.4125 - mrcnn_mask_loss: 0.4009 - val_loss: 1.9812 - val_rpn_class_loss: 0.0739 - val_rpn_bbox_loss: 0.8810 - val_mrcnn_class_loss: 0.0177 - val_mrcnn_bbox_loss: 0.5780 - val_mrcnn_mask_loss: 0.4305\n",
            "Epoch 8/100\n",
            "100/100 [==============================] - 102s 1s/step - loss: 1.6875 - rpn_class_loss: 0.0483 - rpn_bbox_loss: 0.7803 - mrcnn_class_loss: 0.0324 - mrcnn_bbox_loss: 0.4251 - mrcnn_mask_loss: 0.4014 - val_loss: 1.7780 - val_rpn_class_loss: 0.0686 - val_rpn_bbox_loss: 0.6829 - val_mrcnn_class_loss: 0.0373 - val_mrcnn_bbox_loss: 0.4974 - val_mrcnn_mask_loss: 0.4918\n",
            "Epoch 9/100\n",
            "100/100 [==============================] - 102s 1s/step - loss: 1.5034 - rpn_class_loss: 0.0534 - rpn_bbox_loss: 0.6479 - mrcnn_class_loss: 0.0505 - mrcnn_bbox_loss: 0.3666 - mrcnn_mask_loss: 0.3849 - val_loss: 1.9872 - val_rpn_class_loss: 0.0689 - val_rpn_bbox_loss: 0.7182 - val_mrcnn_class_loss: 0.0286 - val_mrcnn_bbox_loss: 0.6445 - val_mrcnn_mask_loss: 0.5271\n",
            "Epoch 10/100\n",
            "100/100 [==============================] - 102s 1s/step - loss: 1.5943 - rpn_class_loss: 0.0465 - rpn_bbox_loss: 0.7601 - mrcnn_class_loss: 0.0321 - mrcnn_bbox_loss: 0.3594 - mrcnn_mask_loss: 0.3963 - val_loss: 1.8925 - val_rpn_class_loss: 0.0741 - val_rpn_bbox_loss: 0.7568 - val_mrcnn_class_loss: 0.0290 - val_mrcnn_bbox_loss: 0.5319 - val_mrcnn_mask_loss: 0.5007\n",
            "Epoch 11/100\n",
            "100/100 [==============================] - 103s 1s/step - loss: 1.5287 - rpn_class_loss: 0.0464 - rpn_bbox_loss: 0.6850 - mrcnn_class_loss: 0.0413 - mrcnn_bbox_loss: 0.3656 - mrcnn_mask_loss: 0.3904 - val_loss: 1.9184 - val_rpn_class_loss: 0.0683 - val_rpn_bbox_loss: 0.7413 - val_mrcnn_class_loss: 0.0438 - val_mrcnn_bbox_loss: 0.5706 - val_mrcnn_mask_loss: 0.4944\n",
            "Epoch 12/100\n",
            "100/100 [==============================] - 103s 1s/step - loss: 1.5566 - rpn_class_loss: 0.0533 - rpn_bbox_loss: 0.7319 - mrcnn_class_loss: 0.0375 - mrcnn_bbox_loss: 0.3430 - mrcnn_mask_loss: 0.3909 - val_loss: 1.9893 - val_rpn_class_loss: 0.0802 - val_rpn_bbox_loss: 0.8134 - val_mrcnn_class_loss: 0.0285 - val_mrcnn_bbox_loss: 0.5254 - val_mrcnn_mask_loss: 0.5419\n",
            "Epoch 13/100\n",
            "100/100 [==============================] - 103s 1s/step - loss: 1.3765 - rpn_class_loss: 0.0401 - rpn_bbox_loss: 0.6304 - mrcnn_class_loss: 0.0349 - mrcnn_bbox_loss: 0.3000 - mrcnn_mask_loss: 0.3711 - val_loss: 1.7687 - val_rpn_class_loss: 0.0715 - val_rpn_bbox_loss: 0.7074 - val_mrcnn_class_loss: 0.0205 - val_mrcnn_bbox_loss: 0.5007 - val_mrcnn_mask_loss: 0.4686\n",
            "Epoch 14/100\n",
            "100/100 [==============================] - 103s 1s/step - loss: 1.4860 - rpn_class_loss: 0.0502 - rpn_bbox_loss: 0.6811 - mrcnn_class_loss: 0.0370 - mrcnn_bbox_loss: 0.3492 - mrcnn_mask_loss: 0.3686 - val_loss: 1.8170 - val_rpn_class_loss: 0.0655 - val_rpn_bbox_loss: 0.7076 - val_mrcnn_class_loss: 0.0273 - val_mrcnn_bbox_loss: 0.5551 - val_mrcnn_mask_loss: 0.4616\n",
            "Epoch 15/100\n",
            "100/100 [==============================] - 102s 1s/step - loss: 1.3824 - rpn_class_loss: 0.0445 - rpn_bbox_loss: 0.6372 - mrcnn_class_loss: 0.0365 - mrcnn_bbox_loss: 0.3080 - mrcnn_mask_loss: 0.3562 - val_loss: 1.9029 - val_rpn_class_loss: 0.0846 - val_rpn_bbox_loss: 0.7149 - val_mrcnn_class_loss: 0.0371 - val_mrcnn_bbox_loss: 0.5563 - val_mrcnn_mask_loss: 0.5101\n",
            "Epoch 16/100\n",
            "100/100 [==============================] - 103s 1s/step - loss: 1.3597 - rpn_class_loss: 0.0354 - rpn_bbox_loss: 0.6079 - mrcnn_class_loss: 0.0406 - mrcnn_bbox_loss: 0.3089 - mrcnn_mask_loss: 0.3670 - val_loss: 1.8349 - val_rpn_class_loss: 0.0719 - val_rpn_bbox_loss: 0.7030 - val_mrcnn_class_loss: 0.0232 - val_mrcnn_bbox_loss: 0.5213 - val_mrcnn_mask_loss: 0.5155\n",
            "Epoch 17/100\n",
            "100/100 [==============================] - 103s 1s/step - loss: 1.3883 - rpn_class_loss: 0.0387 - rpn_bbox_loss: 0.6270 - mrcnn_class_loss: 0.0503 - mrcnn_bbox_loss: 0.3110 - mrcnn_mask_loss: 0.3614 - val_loss: 1.9756 - val_rpn_class_loss: 0.0673 - val_rpn_bbox_loss: 0.7131 - val_mrcnn_class_loss: 0.0228 - val_mrcnn_bbox_loss: 0.6285 - val_mrcnn_mask_loss: 0.5440\n",
            "Epoch 18/100\n",
            "100/100 [==============================] - 103s 1s/step - loss: 1.3079 - rpn_class_loss: 0.0427 - rpn_bbox_loss: 0.5914 - mrcnn_class_loss: 0.0379 - mrcnn_bbox_loss: 0.2846 - mrcnn_mask_loss: 0.3513 - val_loss: 2.2294 - val_rpn_class_loss: 0.1003 - val_rpn_bbox_loss: 0.8726 - val_mrcnn_class_loss: 0.0339 - val_mrcnn_bbox_loss: 0.6209 - val_mrcnn_mask_loss: 0.6017\n",
            "Epoch 19/100\n",
            "100/100 [==============================] - 102s 1s/step - loss: 1.3337 - rpn_class_loss: 0.0389 - rpn_bbox_loss: 0.5772 - mrcnn_class_loss: 0.0476 - mrcnn_bbox_loss: 0.3047 - mrcnn_mask_loss: 0.3653 - val_loss: 1.9109 - val_rpn_class_loss: 0.0794 - val_rpn_bbox_loss: 0.7192 - val_mrcnn_class_loss: 0.0383 - val_mrcnn_bbox_loss: 0.5517 - val_mrcnn_mask_loss: 0.5223\n",
            "Epoch 20/100\n",
            "100/100 [==============================] - 103s 1s/step - loss: 1.2178 - rpn_class_loss: 0.0327 - rpn_bbox_loss: 0.5460 - mrcnn_class_loss: 0.0460 - mrcnn_bbox_loss: 0.2433 - mrcnn_mask_loss: 0.3498 - val_loss: 1.8399 - val_rpn_class_loss: 0.0644 - val_rpn_bbox_loss: 0.6919 - val_mrcnn_class_loss: 0.0274 - val_mrcnn_bbox_loss: 0.5144 - val_mrcnn_mask_loss: 0.5417\n",
            "Epoch 21/100\n",
            "100/100 [==============================] - 103s 1s/step - loss: 1.3396 - rpn_class_loss: 0.0411 - rpn_bbox_loss: 0.6204 - mrcnn_class_loss: 0.0362 - mrcnn_bbox_loss: 0.2928 - mrcnn_mask_loss: 0.3492 - val_loss: 2.0618 - val_rpn_class_loss: 0.0891 - val_rpn_bbox_loss: 0.9138 - val_mrcnn_class_loss: 0.0124 - val_mrcnn_bbox_loss: 0.4973 - val_mrcnn_mask_loss: 0.5492\n",
            "Epoch 22/100\n",
            "100/100 [==============================] - 102s 1s/step - loss: 1.2501 - rpn_class_loss: 0.0415 - rpn_bbox_loss: 0.5353 - mrcnn_class_loss: 0.0427 - mrcnn_bbox_loss: 0.2699 - mrcnn_mask_loss: 0.3606 - val_loss: 1.8919 - val_rpn_class_loss: 0.0696 - val_rpn_bbox_loss: 0.6961 - val_mrcnn_class_loss: 0.0333 - val_mrcnn_bbox_loss: 0.4976 - val_mrcnn_mask_loss: 0.5954\n",
            "Epoch 23/100\n",
            "100/100 [==============================] - 103s 1s/step - loss: 1.1396 - rpn_class_loss: 0.0308 - rpn_bbox_loss: 0.5143 - mrcnn_class_loss: 0.0407 - mrcnn_bbox_loss: 0.2257 - mrcnn_mask_loss: 0.3282 - val_loss: 1.9811 - val_rpn_class_loss: 0.0810 - val_rpn_bbox_loss: 0.7853 - val_mrcnn_class_loss: 0.0281 - val_mrcnn_bbox_loss: 0.5492 - val_mrcnn_mask_loss: 0.5375\n",
            "Epoch 24/100\n",
            "100/100 [==============================] - 103s 1s/step - loss: 1.2307 - rpn_class_loss: 0.0349 - rpn_bbox_loss: 0.5467 - mrcnn_class_loss: 0.0432 - mrcnn_bbox_loss: 0.2562 - mrcnn_mask_loss: 0.3497 - val_loss: 1.9055 - val_rpn_class_loss: 0.0699 - val_rpn_bbox_loss: 0.7856 - val_mrcnn_class_loss: 0.0273 - val_mrcnn_bbox_loss: 0.4987 - val_mrcnn_mask_loss: 0.5241\n",
            "Epoch 25/100\n",
            "100/100 [==============================] - 104s 1s/step - loss: 1.1291 - rpn_class_loss: 0.0370 - rpn_bbox_loss: 0.5038 - mrcnn_class_loss: 0.0311 - mrcnn_bbox_loss: 0.2221 - mrcnn_mask_loss: 0.3350 - val_loss: 2.1066 - val_rpn_class_loss: 0.0777 - val_rpn_bbox_loss: 0.8020 - val_mrcnn_class_loss: 0.0194 - val_mrcnn_bbox_loss: 0.5718 - val_mrcnn_mask_loss: 0.6358\n",
            "Epoch 26/100\n",
            "100/100 [==============================] - 103s 1s/step - loss: 1.0841 - rpn_class_loss: 0.0304 - rpn_bbox_loss: 0.4605 - mrcnn_class_loss: 0.0386 - mrcnn_bbox_loss: 0.2237 - mrcnn_mask_loss: 0.3308 - val_loss: 2.0805 - val_rpn_class_loss: 0.0851 - val_rpn_bbox_loss: 0.7874 - val_mrcnn_class_loss: 0.0258 - val_mrcnn_bbox_loss: 0.5843 - val_mrcnn_mask_loss: 0.5980\n",
            "Epoch 27/100\n",
            "100/100 [==============================] - 103s 1s/step - loss: 1.1033 - rpn_class_loss: 0.0311 - rpn_bbox_loss: 0.4615 - mrcnn_class_loss: 0.0460 - mrcnn_bbox_loss: 0.2320 - mrcnn_mask_loss: 0.3327 - val_loss: 1.8930 - val_rpn_class_loss: 0.0657 - val_rpn_bbox_loss: 0.7308 - val_mrcnn_class_loss: 0.0417 - val_mrcnn_bbox_loss: 0.5082 - val_mrcnn_mask_loss: 0.5465\n",
            "Epoch 28/100\n",
            "100/100 [==============================] - 103s 1s/step - loss: 1.0597 - rpn_class_loss: 0.0303 - rpn_bbox_loss: 0.4369 - mrcnn_class_loss: 0.0426 - mrcnn_bbox_loss: 0.2252 - mrcnn_mask_loss: 0.3248 - val_loss: 2.0632 - val_rpn_class_loss: 0.0799 - val_rpn_bbox_loss: 0.7939 - val_mrcnn_class_loss: 0.0334 - val_mrcnn_bbox_loss: 0.5769 - val_mrcnn_mask_loss: 0.5791\n",
            "Epoch 29/100\n",
            "100/100 [==============================] - 103s 1s/step - loss: 1.1077 - rpn_class_loss: 0.0320 - rpn_bbox_loss: 0.4722 - mrcnn_class_loss: 0.0497 - mrcnn_bbox_loss: 0.2216 - mrcnn_mask_loss: 0.3322 - val_loss: 1.9598 - val_rpn_class_loss: 0.0718 - val_rpn_bbox_loss: 0.8242 - val_mrcnn_class_loss: 0.0276 - val_mrcnn_bbox_loss: 0.5234 - val_mrcnn_mask_loss: 0.5129\n",
            "Epoch 30/100\n",
            "100/100 [==============================] - 104s 1s/step - loss: 1.1102 - rpn_class_loss: 0.0315 - rpn_bbox_loss: 0.5167 - mrcnn_class_loss: 0.0334 - mrcnn_bbox_loss: 0.2027 - mrcnn_mask_loss: 0.3259 - val_loss: 1.9693 - val_rpn_class_loss: 0.0860 - val_rpn_bbox_loss: 0.7177 - val_mrcnn_class_loss: 0.0257 - val_mrcnn_bbox_loss: 0.5346 - val_mrcnn_mask_loss: 0.6053\n",
            "Epoch 31/100\n",
            "100/100 [==============================] - 102s 1s/step - loss: 1.0640 - rpn_class_loss: 0.0289 - rpn_bbox_loss: 0.4756 - mrcnn_class_loss: 0.0396 - mrcnn_bbox_loss: 0.2055 - mrcnn_mask_loss: 0.3144 - val_loss: 2.0590 - val_rpn_class_loss: 0.0872 - val_rpn_bbox_loss: 0.8346 - val_mrcnn_class_loss: 0.0361 - val_mrcnn_bbox_loss: 0.5218 - val_mrcnn_mask_loss: 0.5793\n",
            "Epoch 32/100\n",
            "100/100 [==============================] - 102s 1s/step - loss: 1.0272 - rpn_class_loss: 0.0317 - rpn_bbox_loss: 0.4296 - mrcnn_class_loss: 0.0387 - mrcnn_bbox_loss: 0.2035 - mrcnn_mask_loss: 0.3237 - val_loss: 2.0840 - val_rpn_class_loss: 0.0861 - val_rpn_bbox_loss: 0.7089 - val_mrcnn_class_loss: 0.0255 - val_mrcnn_bbox_loss: 0.6096 - val_mrcnn_mask_loss: 0.6540\n",
            "Epoch 33/100\n",
            "100/100 [==============================] - 103s 1s/step - loss: 0.9530 - rpn_class_loss: 0.0273 - rpn_bbox_loss: 0.3731 - mrcnn_class_loss: 0.0386 - mrcnn_bbox_loss: 0.2025 - mrcnn_mask_loss: 0.3114 - val_loss: 2.1313 - val_rpn_class_loss: 0.0651 - val_rpn_bbox_loss: 0.8471 - val_mrcnn_class_loss: 0.0316 - val_mrcnn_bbox_loss: 0.5794 - val_mrcnn_mask_loss: 0.6081\n",
            "Epoch 34/100\n",
            "100/100 [==============================] - 104s 1s/step - loss: 1.0722 - rpn_class_loss: 0.0268 - rpn_bbox_loss: 0.4587 - mrcnn_class_loss: 0.0380 - mrcnn_bbox_loss: 0.2210 - mrcnn_mask_loss: 0.3276 - val_loss: 2.1831 - val_rpn_class_loss: 0.0809 - val_rpn_bbox_loss: 0.9048 - val_mrcnn_class_loss: 0.0298 - val_mrcnn_bbox_loss: 0.5760 - val_mrcnn_mask_loss: 0.5916\n",
            "Epoch 35/100\n",
            "100/100 [==============================] - 103s 1s/step - loss: 1.0426 - rpn_class_loss: 0.0292 - rpn_bbox_loss: 0.4372 - mrcnn_class_loss: 0.0441 - mrcnn_bbox_loss: 0.2125 - mrcnn_mask_loss: 0.3197 - val_loss: 2.1070 - val_rpn_class_loss: 0.0738 - val_rpn_bbox_loss: 0.8755 - val_mrcnn_class_loss: 0.0304 - val_mrcnn_bbox_loss: 0.5595 - val_mrcnn_mask_loss: 0.5678\n",
            "Epoch 36/100\n",
            "100/100 [==============================] - 103s 1s/step - loss: 0.9301 - rpn_class_loss: 0.0245 - rpn_bbox_loss: 0.3818 - mrcnn_class_loss: 0.0427 - mrcnn_bbox_loss: 0.1832 - mrcnn_mask_loss: 0.2978 - val_loss: 2.2171 - val_rpn_class_loss: 0.0892 - val_rpn_bbox_loss: 0.8006 - val_mrcnn_class_loss: 0.0385 - val_mrcnn_bbox_loss: 0.5778 - val_mrcnn_mask_loss: 0.7110\n",
            "Epoch 37/100\n",
            "100/100 [==============================] - 104s 1s/step - loss: 0.9878 - rpn_class_loss: 0.0273 - rpn_bbox_loss: 0.4134 - mrcnn_class_loss: 0.0417 - mrcnn_bbox_loss: 0.1926 - mrcnn_mask_loss: 0.3128 - val_loss: 1.8995 - val_rpn_class_loss: 0.0665 - val_rpn_bbox_loss: 0.7826 - val_mrcnn_class_loss: 0.0238 - val_mrcnn_bbox_loss: 0.4848 - val_mrcnn_mask_loss: 0.5418\n",
            "Epoch 38/100\n",
            "100/100 [==============================] - 103s 1s/step - loss: 0.9755 - rpn_class_loss: 0.0258 - rpn_bbox_loss: 0.4138 - mrcnn_class_loss: 0.0385 - mrcnn_bbox_loss: 0.1845 - mrcnn_mask_loss: 0.3130 - val_loss: 2.0875 - val_rpn_class_loss: 0.0875 - val_rpn_bbox_loss: 0.8294 - val_mrcnn_class_loss: 0.0349 - val_mrcnn_bbox_loss: 0.5403 - val_mrcnn_mask_loss: 0.5953\n",
            "Epoch 39/100\n",
            "100/100 [==============================] - 102s 1s/step - loss: 0.8842 - rpn_class_loss: 0.0259 - rpn_bbox_loss: 0.3617 - mrcnn_class_loss: 0.0339 - mrcnn_bbox_loss: 0.1647 - mrcnn_mask_loss: 0.2980 - val_loss: 2.0941 - val_rpn_class_loss: 0.0922 - val_rpn_bbox_loss: 0.7942 - val_mrcnn_class_loss: 0.0269 - val_mrcnn_bbox_loss: 0.5501 - val_mrcnn_mask_loss: 0.6307\n",
            "Epoch 40/100\n",
            "100/100 [==============================] - 103s 1s/step - loss: 0.9823 - rpn_class_loss: 0.0276 - rpn_bbox_loss: 0.4025 - mrcnn_class_loss: 0.0454 - mrcnn_bbox_loss: 0.1962 - mrcnn_mask_loss: 0.3106 - val_loss: 2.0220 - val_rpn_class_loss: 0.0785 - val_rpn_bbox_loss: 0.7395 - val_mrcnn_class_loss: 0.0338 - val_mrcnn_bbox_loss: 0.5481 - val_mrcnn_mask_loss: 0.6220\n",
            "Epoch 41/100\n",
            "100/100 [==============================] - 103s 1s/step - loss: 0.9173 - rpn_class_loss: 0.0297 - rpn_bbox_loss: 0.3937 - mrcnn_class_loss: 0.0364 - mrcnn_bbox_loss: 0.1611 - mrcnn_mask_loss: 0.2964 - val_loss: 2.1322 - val_rpn_class_loss: 0.0889 - val_rpn_bbox_loss: 0.8095 - val_mrcnn_class_loss: 0.0146 - val_mrcnn_bbox_loss: 0.5691 - val_mrcnn_mask_loss: 0.6501\n",
            "Epoch 42/100\n",
            "100/100 [==============================] - 103s 1s/step - loss: 0.9377 - rpn_class_loss: 0.0270 - rpn_bbox_loss: 0.4124 - mrcnn_class_loss: 0.0405 - mrcnn_bbox_loss: 0.1669 - mrcnn_mask_loss: 0.2909 - val_loss: 1.9306 - val_rpn_class_loss: 0.0705 - val_rpn_bbox_loss: 0.8074 - val_mrcnn_class_loss: 0.0193 - val_mrcnn_bbox_loss: 0.4689 - val_mrcnn_mask_loss: 0.5645\n",
            "Epoch 43/100\n",
            "100/100 [==============================] - 103s 1s/step - loss: 0.8567 - rpn_class_loss: 0.0234 - rpn_bbox_loss: 0.3497 - mrcnn_class_loss: 0.0363 - mrcnn_bbox_loss: 0.1578 - mrcnn_mask_loss: 0.2895 - val_loss: 2.2096 - val_rpn_class_loss: 0.0767 - val_rpn_bbox_loss: 0.8690 - val_mrcnn_class_loss: 0.0355 - val_mrcnn_bbox_loss: 0.5615 - val_mrcnn_mask_loss: 0.6669\n",
            "Epoch 44/100\n",
            "100/100 [==============================] - 104s 1s/step - loss: 0.7956 - rpn_class_loss: 0.0230 - rpn_bbox_loss: 0.3105 - mrcnn_class_loss: 0.0383 - mrcnn_bbox_loss: 0.1426 - mrcnn_mask_loss: 0.2812 - val_loss: 2.4597 - val_rpn_class_loss: 0.0987 - val_rpn_bbox_loss: 0.9840 - val_mrcnn_class_loss: 0.0357 - val_mrcnn_bbox_loss: 0.6398 - val_mrcnn_mask_loss: 0.7014\n",
            "Epoch 45/100\n",
            "100/100 [==============================] - 104s 1s/step - loss: 0.9295 - rpn_class_loss: 0.0271 - rpn_bbox_loss: 0.3871 - mrcnn_class_loss: 0.0506 - mrcnn_bbox_loss: 0.1651 - mrcnn_mask_loss: 0.2995 - val_loss: 2.0491 - val_rpn_class_loss: 0.0716 - val_rpn_bbox_loss: 0.7930 - val_mrcnn_class_loss: 0.0221 - val_mrcnn_bbox_loss: 0.5356 - val_mrcnn_mask_loss: 0.6268\n",
            "Epoch 46/100\n",
            "100/100 [==============================] - 104s 1s/step - loss: 0.8502 - rpn_class_loss: 0.0233 - rpn_bbox_loss: 0.3522 - mrcnn_class_loss: 0.0312 - mrcnn_bbox_loss: 0.1526 - mrcnn_mask_loss: 0.2910 - val_loss: 2.2504 - val_rpn_class_loss: 0.0819 - val_rpn_bbox_loss: 0.9442 - val_mrcnn_class_loss: 0.0210 - val_mrcnn_bbox_loss: 0.5367 - val_mrcnn_mask_loss: 0.6665\n",
            "Epoch 47/100\n",
            "100/100 [==============================] - 103s 1s/step - loss: 0.7659 - rpn_class_loss: 0.0231 - rpn_bbox_loss: 0.2973 - mrcnn_class_loss: 0.0367 - mrcnn_bbox_loss: 0.1324 - mrcnn_mask_loss: 0.2764 - val_loss: 2.1027 - val_rpn_class_loss: 0.0881 - val_rpn_bbox_loss: 0.8595 - val_mrcnn_class_loss: 0.0284 - val_mrcnn_bbox_loss: 0.5202 - val_mrcnn_mask_loss: 0.6065\n",
            "Epoch 48/100\n",
            "100/100 [==============================] - 104s 1s/step - loss: 0.7960 - rpn_class_loss: 0.0230 - rpn_bbox_loss: 0.3194 - mrcnn_class_loss: 0.0388 - mrcnn_bbox_loss: 0.1359 - mrcnn_mask_loss: 0.2789 - val_loss: 2.2085 - val_rpn_class_loss: 0.0744 - val_rpn_bbox_loss: 0.8155 - val_mrcnn_class_loss: 0.0327 - val_mrcnn_bbox_loss: 0.5752 - val_mrcnn_mask_loss: 0.7107\n",
            "Epoch 49/100\n",
            "100/100 [==============================] - 102s 1s/step - loss: 0.7291 - rpn_class_loss: 0.0188 - rpn_bbox_loss: 0.2868 - mrcnn_class_loss: 0.0349 - mrcnn_bbox_loss: 0.1233 - mrcnn_mask_loss: 0.2654 - val_loss: 2.1187 - val_rpn_class_loss: 0.0859 - val_rpn_bbox_loss: 0.8696 - val_mrcnn_class_loss: 0.0315 - val_mrcnn_bbox_loss: 0.5249 - val_mrcnn_mask_loss: 0.6067\n",
            "Epoch 50/100\n",
            "100/100 [==============================] - 103s 1s/step - loss: 0.6940 - rpn_class_loss: 0.0195 - rpn_bbox_loss: 0.2617 - mrcnn_class_loss: 0.0316 - mrcnn_bbox_loss: 0.1160 - mrcnn_mask_loss: 0.2652 - val_loss: 2.4815 - val_rpn_class_loss: 0.0791 - val_rpn_bbox_loss: 0.9864 - val_mrcnn_class_loss: 0.0404 - val_mrcnn_bbox_loss: 0.6138 - val_mrcnn_mask_loss: 0.7619\n",
            "Epoch 51/100\n",
            "100/100 [==============================] - 104s 1s/step - loss: 0.6959 - rpn_class_loss: 0.0191 - rpn_bbox_loss: 0.2729 - mrcnn_class_loss: 0.0385 - mrcnn_bbox_loss: 0.1115 - mrcnn_mask_loss: 0.2538 - val_loss: 2.4958 - val_rpn_class_loss: 0.0876 - val_rpn_bbox_loss: 0.9821 - val_mrcnn_class_loss: 0.0369 - val_mrcnn_bbox_loss: 0.6231 - val_mrcnn_mask_loss: 0.7661\n",
            "Epoch 52/100\n",
            "100/100 [==============================] - 103s 1s/step - loss: 0.7401 - rpn_class_loss: 0.0210 - rpn_bbox_loss: 0.2914 - mrcnn_class_loss: 0.0423 - mrcnn_bbox_loss: 0.1207 - mrcnn_mask_loss: 0.2648 - val_loss: 2.3088 - val_rpn_class_loss: 0.0814 - val_rpn_bbox_loss: 0.9133 - val_mrcnn_class_loss: 0.0230 - val_mrcnn_bbox_loss: 0.5771 - val_mrcnn_mask_loss: 0.7140\n",
            "Epoch 53/100\n",
            "100/100 [==============================] - 103s 1s/step - loss: 0.6485 - rpn_class_loss: 0.0197 - rpn_bbox_loss: 0.2410 - mrcnn_class_loss: 0.0380 - mrcnn_bbox_loss: 0.1026 - mrcnn_mask_loss: 0.2473 - val_loss: 2.3324 - val_rpn_class_loss: 0.0781 - val_rpn_bbox_loss: 0.9116 - val_mrcnn_class_loss: 0.0416 - val_mrcnn_bbox_loss: 0.5766 - val_mrcnn_mask_loss: 0.7245\n",
            "Epoch 54/100\n",
            "100/100 [==============================] - 103s 1s/step - loss: 0.6875 - rpn_class_loss: 0.0189 - rpn_bbox_loss: 0.2755 - mrcnn_class_loss: 0.0350 - mrcnn_bbox_loss: 0.1044 - mrcnn_mask_loss: 0.2536 - val_loss: 2.1631 - val_rpn_class_loss: 0.0811 - val_rpn_bbox_loss: 0.7758 - val_mrcnn_class_loss: 0.0379 - val_mrcnn_bbox_loss: 0.5576 - val_mrcnn_mask_loss: 0.7108\n",
            "Epoch 55/100\n",
            "100/100 [==============================] - 103s 1s/step - loss: 0.5904 - rpn_class_loss: 0.0196 - rpn_bbox_loss: 0.2095 - mrcnn_class_loss: 0.0324 - mrcnn_bbox_loss: 0.0870 - mrcnn_mask_loss: 0.2418 - val_loss: 2.5889 - val_rpn_class_loss: 0.1023 - val_rpn_bbox_loss: 0.9586 - val_mrcnn_class_loss: 0.0322 - val_mrcnn_bbox_loss: 0.6384 - val_mrcnn_mask_loss: 0.8573\n",
            "Epoch 56/100\n",
            "100/100 [==============================] - 103s 1s/step - loss: 0.7440 - rpn_class_loss: 0.0217 - rpn_bbox_loss: 0.3128 - mrcnn_class_loss: 0.0314 - mrcnn_bbox_loss: 0.1078 - mrcnn_mask_loss: 0.2703 - val_loss: 2.1022 - val_rpn_class_loss: 0.0856 - val_rpn_bbox_loss: 0.8271 - val_mrcnn_class_loss: 0.0300 - val_mrcnn_bbox_loss: 0.5509 - val_mrcnn_mask_loss: 0.6086\n",
            "Epoch 57/100\n",
            "100/100 [==============================] - 103s 1s/step - loss: 0.6388 - rpn_class_loss: 0.0183 - rpn_bbox_loss: 0.2415 - mrcnn_class_loss: 0.0391 - mrcnn_bbox_loss: 0.0986 - mrcnn_mask_loss: 0.2413 - val_loss: 2.3813 - val_rpn_class_loss: 0.0745 - val_rpn_bbox_loss: 0.8997 - val_mrcnn_class_loss: 0.0359 - val_mrcnn_bbox_loss: 0.6055 - val_mrcnn_mask_loss: 0.7657\n",
            "Epoch 58/100\n",
            "100/100 [==============================] - 102s 1s/step - loss: 0.5461 - rpn_class_loss: 0.0166 - rpn_bbox_loss: 0.1847 - mrcnn_class_loss: 0.0340 - mrcnn_bbox_loss: 0.0819 - mrcnn_mask_loss: 0.2289 - val_loss: 2.4844 - val_rpn_class_loss: 0.0979 - val_rpn_bbox_loss: 0.9090 - val_mrcnn_class_loss: 0.0409 - val_mrcnn_bbox_loss: 0.6043 - val_mrcnn_mask_loss: 0.8323\n",
            "Epoch 59/100\n",
            "100/100 [==============================] - 104s 1s/step - loss: 0.6513 - rpn_class_loss: 0.0201 - rpn_bbox_loss: 0.2444 - mrcnn_class_loss: 0.0340 - mrcnn_bbox_loss: 0.0992 - mrcnn_mask_loss: 0.2535 - val_loss: 2.4163 - val_rpn_class_loss: 0.0875 - val_rpn_bbox_loss: 0.8858 - val_mrcnn_class_loss: 0.0303 - val_mrcnn_bbox_loss: 0.6524 - val_mrcnn_mask_loss: 0.7603\n",
            "Epoch 60/100\n",
            "100/100 [==============================] - 103s 1s/step - loss: 0.6438 - rpn_class_loss: 0.0201 - rpn_bbox_loss: 0.2570 - mrcnn_class_loss: 0.0327 - mrcnn_bbox_loss: 0.0968 - mrcnn_mask_loss: 0.2372 - val_loss: 2.4906 - val_rpn_class_loss: 0.0962 - val_rpn_bbox_loss: 0.8448 - val_mrcnn_class_loss: 0.0306 - val_mrcnn_bbox_loss: 0.6493 - val_mrcnn_mask_loss: 0.8696\n",
            "Epoch 61/100\n",
            "100/100 [==============================] - 103s 1s/step - loss: 0.6493 - rpn_class_loss: 0.0194 - rpn_bbox_loss: 0.2382 - mrcnn_class_loss: 0.0363 - mrcnn_bbox_loss: 0.0974 - mrcnn_mask_loss: 0.2579 - val_loss: 2.3997 - val_rpn_class_loss: 0.0893 - val_rpn_bbox_loss: 0.9249 - val_mrcnn_class_loss: 0.0369 - val_mrcnn_bbox_loss: 0.5911 - val_mrcnn_mask_loss: 0.7575\n",
            "Epoch 62/100\n",
            "100/100 [==============================] - 103s 1s/step - loss: 0.5731 - rpn_class_loss: 0.0175 - rpn_bbox_loss: 0.2007 - mrcnn_class_loss: 0.0286 - mrcnn_bbox_loss: 0.0844 - mrcnn_mask_loss: 0.2419 - val_loss: 2.2709 - val_rpn_class_loss: 0.0795 - val_rpn_bbox_loss: 0.8469 - val_mrcnn_class_loss: 0.0346 - val_mrcnn_bbox_loss: 0.5686 - val_mrcnn_mask_loss: 0.7413\n",
            "Epoch 63/100\n",
            "100/100 [==============================] - 104s 1s/step - loss: 0.6230 - rpn_class_loss: 0.0180 - rpn_bbox_loss: 0.2437 - mrcnn_class_loss: 0.0308 - mrcnn_bbox_loss: 0.0951 - mrcnn_mask_loss: 0.2354 - val_loss: 2.4082 - val_rpn_class_loss: 0.0920 - val_rpn_bbox_loss: 0.9741 - val_mrcnn_class_loss: 0.0371 - val_mrcnn_bbox_loss: 0.5808 - val_mrcnn_mask_loss: 0.7242\n",
            "Epoch 64/100\n",
            "100/100 [==============================] - 103s 1s/step - loss: 0.6424 - rpn_class_loss: 0.0181 - rpn_bbox_loss: 0.2533 - mrcnn_class_loss: 0.0367 - mrcnn_bbox_loss: 0.0935 - mrcnn_mask_loss: 0.2409 - val_loss: 2.4607 - val_rpn_class_loss: 0.1002 - val_rpn_bbox_loss: 0.9132 - val_mrcnn_class_loss: 0.0354 - val_mrcnn_bbox_loss: 0.5701 - val_mrcnn_mask_loss: 0.8418\n",
            "Epoch 65/100\n",
            "100/100 [==============================] - 103s 1s/step - loss: 0.5758 - rpn_class_loss: 0.0153 - rpn_bbox_loss: 0.2300 - mrcnn_class_loss: 0.0286 - mrcnn_bbox_loss: 0.0790 - mrcnn_mask_loss: 0.2228 - val_loss: 2.4905 - val_rpn_class_loss: 0.0842 - val_rpn_bbox_loss: 0.8792 - val_mrcnn_class_loss: 0.0454 - val_mrcnn_bbox_loss: 0.6121 - val_mrcnn_mask_loss: 0.8696\n",
            "Epoch 66/100\n",
            "100/100 [==============================] - 103s 1s/step - loss: 0.5977 - rpn_class_loss: 0.0200 - rpn_bbox_loss: 0.2336 - mrcnn_class_loss: 0.0323 - mrcnn_bbox_loss: 0.0840 - mrcnn_mask_loss: 0.2277 - val_loss: 2.5114 - val_rpn_class_loss: 0.0940 - val_rpn_bbox_loss: 1.0133 - val_mrcnn_class_loss: 0.0269 - val_mrcnn_bbox_loss: 0.5563 - val_mrcnn_mask_loss: 0.8209\n",
            "Epoch 67/100\n",
            "100/100 [==============================] - 103s 1s/step - loss: 0.5384 - rpn_class_loss: 0.0133 - rpn_bbox_loss: 0.1983 - mrcnn_class_loss: 0.0312 - mrcnn_bbox_loss: 0.0811 - mrcnn_mask_loss: 0.2146 - val_loss: 2.4967 - val_rpn_class_loss: 0.0931 - val_rpn_bbox_loss: 0.8888 - val_mrcnn_class_loss: 0.0290 - val_mrcnn_bbox_loss: 0.6185 - val_mrcnn_mask_loss: 0.8674\n",
            "Epoch 68/100\n",
            "100/100 [==============================] - 103s 1s/step - loss: 0.5508 - rpn_class_loss: 0.0165 - rpn_bbox_loss: 0.2057 - mrcnn_class_loss: 0.0321 - mrcnn_bbox_loss: 0.0746 - mrcnn_mask_loss: 0.2220 - val_loss: 2.5455 - val_rpn_class_loss: 0.0974 - val_rpn_bbox_loss: 0.9974 - val_mrcnn_class_loss: 0.0325 - val_mrcnn_bbox_loss: 0.6118 - val_mrcnn_mask_loss: 0.8064\n",
            "Epoch 69/100\n",
            "100/100 [==============================] - 103s 1s/step - loss: 0.5740 - rpn_class_loss: 0.0158 - rpn_bbox_loss: 0.2084 - mrcnn_class_loss: 0.0319 - mrcnn_bbox_loss: 0.0871 - mrcnn_mask_loss: 0.2308 - val_loss: 2.3579 - val_rpn_class_loss: 0.0845 - val_rpn_bbox_loss: 0.8583 - val_mrcnn_class_loss: 0.0458 - val_mrcnn_bbox_loss: 0.5597 - val_mrcnn_mask_loss: 0.8097\n",
            "Epoch 70/100\n",
            "100/100 [==============================] - 102s 1s/step - loss: 0.5166 - rpn_class_loss: 0.0166 - rpn_bbox_loss: 0.1860 - mrcnn_class_loss: 0.0330 - mrcnn_bbox_loss: 0.0668 - mrcnn_mask_loss: 0.2142 - val_loss: 2.4634 - val_rpn_class_loss: 0.1214 - val_rpn_bbox_loss: 0.8991 - val_mrcnn_class_loss: 0.0327 - val_mrcnn_bbox_loss: 0.5732 - val_mrcnn_mask_loss: 0.8369\n",
            "Epoch 71/100\n",
            "100/100 [==============================] - 103s 1s/step - loss: 0.4929 - rpn_class_loss: 0.0167 - rpn_bbox_loss: 0.1714 - mrcnn_class_loss: 0.0288 - mrcnn_bbox_loss: 0.0676 - mrcnn_mask_loss: 0.2084 - val_loss: 2.6424 - val_rpn_class_loss: 0.0954 - val_rpn_bbox_loss: 0.8825 - val_mrcnn_class_loss: 0.0465 - val_mrcnn_bbox_loss: 0.6159 - val_mrcnn_mask_loss: 1.0021\n",
            "Epoch 72/100\n",
            "100/100 [==============================] - 104s 1s/step - loss: 0.5033 - rpn_class_loss: 0.0157 - rpn_bbox_loss: 0.1756 - mrcnn_class_loss: 0.0333 - mrcnn_bbox_loss: 0.0710 - mrcnn_mask_loss: 0.2076 - val_loss: 2.6626 - val_rpn_class_loss: 0.1074 - val_rpn_bbox_loss: 0.9666 - val_mrcnn_class_loss: 0.0444 - val_mrcnn_bbox_loss: 0.6372 - val_mrcnn_mask_loss: 0.9070\n",
            "Epoch 73/100\n",
            "100/100 [==============================] - 103s 1s/step - loss: 0.5144 - rpn_class_loss: 0.0150 - rpn_bbox_loss: 0.1883 - mrcnn_class_loss: 0.0306 - mrcnn_bbox_loss: 0.0665 - mrcnn_mask_loss: 0.2141 - val_loss: 2.5890 - val_rpn_class_loss: 0.1004 - val_rpn_bbox_loss: 1.0000 - val_mrcnn_class_loss: 0.0397 - val_mrcnn_bbox_loss: 0.5489 - val_mrcnn_mask_loss: 0.9000\n",
            "Epoch 74/100\n",
            "100/100 [==============================] - 103s 1s/step - loss: 0.4823 - rpn_class_loss: 0.0155 - rpn_bbox_loss: 0.1566 - mrcnn_class_loss: 0.0296 - mrcnn_bbox_loss: 0.0681 - mrcnn_mask_loss: 0.2125 - val_loss: 2.5946 - val_rpn_class_loss: 0.0861 - val_rpn_bbox_loss: 0.9789 - val_mrcnn_class_loss: 0.0320 - val_mrcnn_bbox_loss: 0.6061 - val_mrcnn_mask_loss: 0.8916\n",
            "Epoch 75/100\n",
            "100/100 [==============================] - 102s 1s/step - loss: 0.5136 - rpn_class_loss: 0.0164 - rpn_bbox_loss: 0.1938 - mrcnn_class_loss: 0.0282 - mrcnn_bbox_loss: 0.0667 - mrcnn_mask_loss: 0.2086 - val_loss: 2.6116 - val_rpn_class_loss: 0.0956 - val_rpn_bbox_loss: 0.9282 - val_mrcnn_class_loss: 0.0419 - val_mrcnn_bbox_loss: 0.5850 - val_mrcnn_mask_loss: 0.9610\n",
            "Epoch 76/100\n",
            "100/100 [==============================] - 103s 1s/step - loss: 0.4719 - rpn_class_loss: 0.0116 - rpn_bbox_loss: 0.1587 - mrcnn_class_loss: 0.0258 - mrcnn_bbox_loss: 0.0664 - mrcnn_mask_loss: 0.2095 - val_loss: 2.5746 - val_rpn_class_loss: 0.1127 - val_rpn_bbox_loss: 1.0250 - val_mrcnn_class_loss: 0.0418 - val_mrcnn_bbox_loss: 0.5412 - val_mrcnn_mask_loss: 0.8539\n",
            "Epoch 77/100\n",
            "100/100 [==============================] - 103s 1s/step - loss: 0.4957 - rpn_class_loss: 0.0147 - rpn_bbox_loss: 0.1622 - mrcnn_class_loss: 0.0300 - mrcnn_bbox_loss: 0.0697 - mrcnn_mask_loss: 0.2191 - val_loss: 2.6367 - val_rpn_class_loss: 0.1145 - val_rpn_bbox_loss: 0.9173 - val_mrcnn_class_loss: 0.0500 - val_mrcnn_bbox_loss: 0.6589 - val_mrcnn_mask_loss: 0.8960\n",
            "Epoch 78/100\n",
            "100/100 [==============================] - 103s 1s/step - loss: 0.5290 - rpn_class_loss: 0.0176 - rpn_bbox_loss: 0.2002 - mrcnn_class_loss: 0.0240 - mrcnn_bbox_loss: 0.0717 - mrcnn_mask_loss: 0.2155 - val_loss: 2.5137 - val_rpn_class_loss: 0.1027 - val_rpn_bbox_loss: 0.8997 - val_mrcnn_class_loss: 0.0434 - val_mrcnn_bbox_loss: 0.5695 - val_mrcnn_mask_loss: 0.8984\n",
            "Epoch 79/100\n",
            "100/100 [==============================] - 103s 1s/step - loss: 0.4952 - rpn_class_loss: 0.0143 - rpn_bbox_loss: 0.1662 - mrcnn_class_loss: 0.0244 - mrcnn_bbox_loss: 0.0712 - mrcnn_mask_loss: 0.2191 - val_loss: 2.3919 - val_rpn_class_loss: 0.0946 - val_rpn_bbox_loss: 0.8581 - val_mrcnn_class_loss: 0.0365 - val_mrcnn_bbox_loss: 0.6096 - val_mrcnn_mask_loss: 0.7931\n",
            "Epoch 80/100\n",
            "100/100 [==============================] - 104s 1s/step - loss: 0.4671 - rpn_class_loss: 0.0149 - rpn_bbox_loss: 0.1684 - mrcnn_class_loss: 0.0273 - mrcnn_bbox_loss: 0.0631 - mrcnn_mask_loss: 0.1933 - val_loss: 2.5962 - val_rpn_class_loss: 0.1030 - val_rpn_bbox_loss: 0.9491 - val_mrcnn_class_loss: 0.0316 - val_mrcnn_bbox_loss: 0.5552 - val_mrcnn_mask_loss: 0.9572\n",
            "Epoch 81/100\n",
            "100/100 [==============================] - 103s 1s/step - loss: 0.5227 - rpn_class_loss: 0.0182 - rpn_bbox_loss: 0.1975 - mrcnn_class_loss: 0.0309 - mrcnn_bbox_loss: 0.0730 - mrcnn_mask_loss: 0.2031 - val_loss: 2.7445 - val_rpn_class_loss: 0.1178 - val_rpn_bbox_loss: 0.9869 - val_mrcnn_class_loss: 0.0546 - val_mrcnn_bbox_loss: 0.5811 - val_mrcnn_mask_loss: 1.0041\n",
            "Epoch 82/100\n",
            "100/100 [==============================] - 103s 1s/step - loss: 0.4346 - rpn_class_loss: 0.0139 - rpn_bbox_loss: 0.1499 - mrcnn_class_loss: 0.0250 - mrcnn_bbox_loss: 0.0578 - mrcnn_mask_loss: 0.1880 - val_loss: 2.5444 - val_rpn_class_loss: 0.1063 - val_rpn_bbox_loss: 0.8334 - val_mrcnn_class_loss: 0.0398 - val_mrcnn_bbox_loss: 0.5299 - val_mrcnn_mask_loss: 1.0349\n",
            "Epoch 83/100\n",
            "100/100 [==============================] - 103s 1s/step - loss: 0.5061 - rpn_class_loss: 0.0145 - rpn_bbox_loss: 0.1900 - mrcnn_class_loss: 0.0280 - mrcnn_bbox_loss: 0.0717 - mrcnn_mask_loss: 0.2020 - val_loss: 2.7367 - val_rpn_class_loss: 0.1159 - val_rpn_bbox_loss: 0.9627 - val_mrcnn_class_loss: 0.0447 - val_mrcnn_bbox_loss: 0.6281 - val_mrcnn_mask_loss: 0.9853\n",
            "Epoch 84/100\n",
            "100/100 [==============================] - 104s 1s/step - loss: 0.4549 - rpn_class_loss: 0.0141 - rpn_bbox_loss: 0.1563 - mrcnn_class_loss: 0.0258 - mrcnn_bbox_loss: 0.0640 - mrcnn_mask_loss: 0.1947 - val_loss: 2.6705 - val_rpn_class_loss: 0.0909 - val_rpn_bbox_loss: 0.8874 - val_mrcnn_class_loss: 0.0475 - val_mrcnn_bbox_loss: 0.6337 - val_mrcnn_mask_loss: 1.0110\n",
            "Epoch 85/100\n",
            "100/100 [==============================] - 102s 1s/step - loss: 0.4744 - rpn_class_loss: 0.0136 - rpn_bbox_loss: 0.1674 - mrcnn_class_loss: 0.0266 - mrcnn_bbox_loss: 0.0674 - mrcnn_mask_loss: 0.1994 - val_loss: 2.4827 - val_rpn_class_loss: 0.1084 - val_rpn_bbox_loss: 0.9364 - val_mrcnn_class_loss: 0.0519 - val_mrcnn_bbox_loss: 0.5459 - val_mrcnn_mask_loss: 0.8402\n",
            "Epoch 86/100\n",
            "100/100 [==============================] - 103s 1s/step - loss: 0.4323 - rpn_class_loss: 0.0123 - rpn_bbox_loss: 0.1417 - mrcnn_class_loss: 0.0243 - mrcnn_bbox_loss: 0.0591 - mrcnn_mask_loss: 0.1948 - val_loss: 2.5318 - val_rpn_class_loss: 0.1186 - val_rpn_bbox_loss: 0.9585 - val_mrcnn_class_loss: 0.0491 - val_mrcnn_bbox_loss: 0.5050 - val_mrcnn_mask_loss: 0.9006\n",
            "Epoch 87/100\n",
            "100/100 [==============================] - 104s 1s/step - loss: 0.5001 - rpn_class_loss: 0.0148 - rpn_bbox_loss: 0.1826 - mrcnn_class_loss: 0.0219 - mrcnn_bbox_loss: 0.0741 - mrcnn_mask_loss: 0.2067 - val_loss: 3.0702 - val_rpn_class_loss: 0.1171 - val_rpn_bbox_loss: 1.1318 - val_mrcnn_class_loss: 0.0511 - val_mrcnn_bbox_loss: 0.6346 - val_mrcnn_mask_loss: 1.1355\n",
            "Epoch 88/100\n",
            "100/100 [==============================] - 102s 1s/step - loss: 0.4782 - rpn_class_loss: 0.0136 - rpn_bbox_loss: 0.1682 - mrcnn_class_loss: 0.0229 - mrcnn_bbox_loss: 0.0706 - mrcnn_mask_loss: 0.2030 - val_loss: 2.8440 - val_rpn_class_loss: 0.1154 - val_rpn_bbox_loss: 0.9856 - val_mrcnn_class_loss: 0.0579 - val_mrcnn_bbox_loss: 0.6390 - val_mrcnn_mask_loss: 1.0462\n",
            "Epoch 89/100\n",
            "100/100 [==============================] - 103s 1s/step - loss: 0.4502 - rpn_class_loss: 0.0140 - rpn_bbox_loss: 0.1616 - mrcnn_class_loss: 0.0274 - mrcnn_bbox_loss: 0.0587 - mrcnn_mask_loss: 0.1884 - val_loss: 2.6625 - val_rpn_class_loss: 0.1100 - val_rpn_bbox_loss: 0.9092 - val_mrcnn_class_loss: 0.0524 - val_mrcnn_bbox_loss: 0.5663 - val_mrcnn_mask_loss: 1.0245\n",
            "Epoch 90/100\n",
            "100/100 [==============================] - 103s 1s/step - loss: 0.4703 - rpn_class_loss: 0.0133 - rpn_bbox_loss: 0.1746 - mrcnn_class_loss: 0.0264 - mrcnn_bbox_loss: 0.0655 - mrcnn_mask_loss: 0.1905 - val_loss: 3.0355 - val_rpn_class_loss: 0.1227 - val_rpn_bbox_loss: 1.0200 - val_mrcnn_class_loss: 0.0574 - val_mrcnn_bbox_loss: 0.6632 - val_mrcnn_mask_loss: 1.1721\n",
            "Epoch 91/100\n",
            "100/100 [==============================] - 103s 1s/step - loss: 0.4415 - rpn_class_loss: 0.0125 - rpn_bbox_loss: 0.1533 - mrcnn_class_loss: 0.0219 - mrcnn_bbox_loss: 0.0603 - mrcnn_mask_loss: 0.1935 - val_loss: 2.7879 - val_rpn_class_loss: 0.1076 - val_rpn_bbox_loss: 1.0326 - val_mrcnn_class_loss: 0.0428 - val_mrcnn_bbox_loss: 0.6359 - val_mrcnn_mask_loss: 0.9689\n",
            "Epoch 92/100\n",
            "100/100 [==============================] - 104s 1s/step - loss: 0.4524 - rpn_class_loss: 0.0122 - rpn_bbox_loss: 0.1737 - mrcnn_class_loss: 0.0238 - mrcnn_bbox_loss: 0.0607 - mrcnn_mask_loss: 0.1820 - val_loss: 2.4865 - val_rpn_class_loss: 0.1140 - val_rpn_bbox_loss: 0.8807 - val_mrcnn_class_loss: 0.0509 - val_mrcnn_bbox_loss: 0.5520 - val_mrcnn_mask_loss: 0.8890\n",
            "Epoch 93/100\n",
            "100/100 [==============================] - 102s 1s/step - loss: 0.4122 - rpn_class_loss: 0.0121 - rpn_bbox_loss: 0.1401 - mrcnn_class_loss: 0.0237 - mrcnn_bbox_loss: 0.0511 - mrcnn_mask_loss: 0.1852 - val_loss: 2.7389 - val_rpn_class_loss: 0.1203 - val_rpn_bbox_loss: 1.0604 - val_mrcnn_class_loss: 0.0667 - val_mrcnn_bbox_loss: 0.5463 - val_mrcnn_mask_loss: 0.9452\n",
            "Epoch 94/100\n",
            "100/100 [==============================] - 104s 1s/step - loss: 0.4223 - rpn_class_loss: 0.0125 - rpn_bbox_loss: 0.1431 - mrcnn_class_loss: 0.0200 - mrcnn_bbox_loss: 0.0612 - mrcnn_mask_loss: 0.1855 - val_loss: 2.6450 - val_rpn_class_loss: 0.1030 - val_rpn_bbox_loss: 0.9422 - val_mrcnn_class_loss: 0.0339 - val_mrcnn_bbox_loss: 0.6108 - val_mrcnn_mask_loss: 0.9552\n",
            "Epoch 95/100\n",
            "100/100 [==============================] - 103s 1s/step - loss: 0.4416 - rpn_class_loss: 0.0132 - rpn_bbox_loss: 0.1624 - mrcnn_class_loss: 0.0258 - mrcnn_bbox_loss: 0.0559 - mrcnn_mask_loss: 0.1843 - val_loss: 2.7111 - val_rpn_class_loss: 0.1251 - val_rpn_bbox_loss: 0.8888 - val_mrcnn_class_loss: 0.0571 - val_mrcnn_bbox_loss: 0.5730 - val_mrcnn_mask_loss: 1.0671\n",
            "Epoch 96/100\n",
            "100/100 [==============================] - 103s 1s/step - loss: 0.4154 - rpn_class_loss: 0.0123 - rpn_bbox_loss: 0.1416 - mrcnn_class_loss: 0.0254 - mrcnn_bbox_loss: 0.0536 - mrcnn_mask_loss: 0.1825 - val_loss: 2.7073 - val_rpn_class_loss: 0.1249 - val_rpn_bbox_loss: 1.0892 - val_mrcnn_class_loss: 0.0470 - val_mrcnn_bbox_loss: 0.5258 - val_mrcnn_mask_loss: 0.9205\n",
            "Epoch 97/100\n",
            "100/100 [==============================] - 102s 1s/step - loss: 0.4342 - rpn_class_loss: 0.0112 - rpn_bbox_loss: 0.1523 - mrcnn_class_loss: 0.0238 - mrcnn_bbox_loss: 0.0567 - mrcnn_mask_loss: 0.1902 - val_loss: 2.5877 - val_rpn_class_loss: 0.1075 - val_rpn_bbox_loss: 0.9084 - val_mrcnn_class_loss: 0.0542 - val_mrcnn_bbox_loss: 0.5926 - val_mrcnn_mask_loss: 0.9250\n",
            "Epoch 98/100\n",
            "100/100 [==============================] - 104s 1s/step - loss: 0.3960 - rpn_class_loss: 0.0115 - rpn_bbox_loss: 0.1244 - mrcnn_class_loss: 0.0225 - mrcnn_bbox_loss: 0.0562 - mrcnn_mask_loss: 0.1814 - val_loss: 2.6569 - val_rpn_class_loss: 0.1104 - val_rpn_bbox_loss: 1.0103 - val_mrcnn_class_loss: 0.0489 - val_mrcnn_bbox_loss: 0.5861 - val_mrcnn_mask_loss: 0.9013\n",
            "Epoch 99/100\n",
            "100/100 [==============================] - 104s 1s/step - loss: 0.4220 - rpn_class_loss: 0.0129 - rpn_bbox_loss: 0.1483 - mrcnn_class_loss: 0.0220 - mrcnn_bbox_loss: 0.0539 - mrcnn_mask_loss: 0.1849 - val_loss: 2.5375 - val_rpn_class_loss: 0.1078 - val_rpn_bbox_loss: 0.8597 - val_mrcnn_class_loss: 0.0574 - val_mrcnn_bbox_loss: 0.5596 - val_mrcnn_mask_loss: 0.9529\n",
            "Epoch 100/100\n",
            "100/100 [==============================] - 103s 1s/step - loss: 0.4059 - rpn_class_loss: 0.0131 - rpn_bbox_loss: 0.1353 - mrcnn_class_loss: 0.0254 - mrcnn_bbox_loss: 0.0487 - mrcnn_mask_loss: 0.1833 - val_loss: 2.9296 - val_rpn_class_loss: 0.1215 - val_rpn_bbox_loss: 0.9979 - val_mrcnn_class_loss: 0.0624 - val_mrcnn_bbox_loss: 0.6215 - val_mrcnn_mask_loss: 1.1263\n"
          ],
          "name": "stdout"
        }
      ]
    },
    {
      "cell_type": "code",
      "metadata": {
        "id": "HVtHqETqT3zq",
        "colab_type": "code",
        "colab": {}
      },
      "source": [
        ""
      ],
      "execution_count": 0,
      "outputs": []
    },
    {
      "cell_type": "markdown",
      "metadata": {
        "id": "jI8PpSMM3a1p",
        "colab_type": "text"
      },
      "source": [
        ""
      ]
    },
    {
      "cell_type": "markdown",
      "metadata": {
        "id": "yx8GwV2QlLkL",
        "colab_type": "text"
      },
      "source": [
        ""
      ]
    },
    {
      "cell_type": "markdown",
      "metadata": {
        "id": "7s1UTtwzKqzS",
        "colab_type": "text"
      },
      "source": [
        ""
      ]
    },
    {
      "cell_type": "code",
      "metadata": {
        "id": "Iv4kEgftSMX-",
        "colab_type": "code",
        "outputId": "6c4f8101-5229-4b44-d4af-03b0f394e6ff",
        "colab": {
          "base_uri": "https://localhost:8080/",
          "height": 168
        }
      },
      "source": [
        "model.save(\"/content/drive/My Drive/PotholeDetection/mask_rcnn_pothole_0100.h5\")\n"
      ],
      "execution_count": 0,
      "outputs": [
        {
          "output_type": "error",
          "ename": "NameError",
          "evalue": "ignored",
          "traceback": [
            "\u001b[0;31m---------------------------------------------------------------------------\u001b[0m",
            "\u001b[0;31mNameError\u001b[0m                                 Traceback (most recent call last)",
            "\u001b[0;32m<ipython-input-20-b6ef365d6602>\u001b[0m in \u001b[0;36m<module>\u001b[0;34m()\u001b[0m\n\u001b[0;32m----> 1\u001b[0;31m \u001b[0mmodel\u001b[0m\u001b[0;34m.\u001b[0m\u001b[0msave\u001b[0m\u001b[0;34m(\u001b[0m\u001b[0;34m\"/content/drive/My Drive/PotholeDetection/mask_rcnn_pothole_0100.h5\"\u001b[0m\u001b[0;34m)\u001b[0m\u001b[0;34m\u001b[0m\u001b[0;34m\u001b[0m\u001b[0m\n\u001b[0m",
            "\u001b[0;31mNameError\u001b[0m: name 'model' is not defined"
          ]
        }
      ]
    },
    {
      "cell_type": "markdown",
      "metadata": {
        "id": "laqF3Tihrqs3",
        "colab_type": "text"
      },
      "source": [
        "#Run inference on test dataset"
      ]
    },
    {
      "cell_type": "code",
      "metadata": {
        "id": "2o7dH-mRX2A0",
        "colab_type": "code",
        "outputId": "6e06975e-fbb5-404d-ec9d-7315f8c9e905",
        "colab": {
          "base_uri": "https://localhost:8080/",
          "height": 35
        }
      },
      "source": [
        "import os\n",
        "import cv2\n",
        "import sys\n",
        "import random\n",
        "import math\n",
        "import re\n",
        "import time\n",
        "import numpy as np\n",
        "import tensorflow as tf\n",
        "import matplotlib\n",
        "import matplotlib.pyplot as plt\n",
        "import matplotlib.patches as patches\n",
        "import skimage\n",
        "import glob\n",
        "from mrcnn import utils\n",
        "from mrcnn import visualize\n",
        "from mrcnn.visualize import display_images\n",
        "import mrcnn.model as modellib\n",
        "from mrcnn.model import log\n",
        "\n",
        "import pothole\n",
        "\n",
        "# Root directory of the project\n",
        "ROOT_DIR = os.getcwd()\n",
        "\n",
        "# Import Mask RCNN\n",
        "sys.path.append(ROOT_DIR)  # To find local version of the library\n",
        "\n",
        "custom_WEIGHTS_PATH = sorted(glob.glob(\"/logs/*/mask_rcnn_pothole*.h5\"))[-1]\n",
        "print(custom_WEIGHTS_PATH)\n",
        "%matplotlib inline \n",
        "\n"
      ],
      "execution_count": 0,
      "outputs": [
        {
          "output_type": "stream",
          "text": [
            "/logs/pothole20200313T0647/mask_rcnn_pothole_0100.h5\n"
          ],
          "name": "stdout"
        }
      ]
    },
    {
      "cell_type": "code",
      "metadata": {
        "id": "SsFK5dKGGHPr",
        "colab_type": "code",
        "outputId": "dfff3098-ce0f-4fd0-d920-954dcae8f402",
        "colab": {
          "base_uri": "https://localhost:8080/",
          "height": 168
        }
      },
      "source": [
        "dataset.num_images"
      ],
      "execution_count": 0,
      "outputs": [
        {
          "output_type": "error",
          "ename": "NameError",
          "evalue": "ignored",
          "traceback": [
            "\u001b[0;31m---------------------------------------------------------------------------\u001b[0m",
            "\u001b[0;31mNameError\u001b[0m                                 Traceback (most recent call last)",
            "\u001b[0;32m<ipython-input-1-1f65b872d2d8>\u001b[0m in \u001b[0;36m<module>\u001b[0;34m()\u001b[0m\n\u001b[0;32m----> 1\u001b[0;31m \u001b[0mdataset\u001b[0m\u001b[0;34m.\u001b[0m\u001b[0mnum_images\u001b[0m\u001b[0;34m\u001b[0m\u001b[0;34m\u001b[0m\u001b[0m\n\u001b[0m",
            "\u001b[0;31mNameError\u001b[0m: name 'dataset' is not defined"
          ]
        }
      ]
    },
    {
      "cell_type": "code",
      "metadata": {
        "id": "4lr3BZbF9UAn",
        "colab_type": "code",
        "outputId": "90ddf1dc-0b87-4db8-f066-97e6dbe9c83b",
        "colab": {
          "base_uri": "https://localhost:8080/",
          "height": 957
        }
      },
      "source": [
        "# Directory to save logs and trained model\n",
        "MODEL_DIR = os.path.join(ROOT_DIR, \"logs\")\n",
        "\n",
        "config = pothole.PotholeConfig()\n",
        "custom_DIR = os.path.join(ROOT_DIR, \"dataset\")\n",
        "\n",
        "class InferenceConfig(config.__class__):\n",
        "    # Run detection on one image at a time\n",
        "    GPU_COUNT = 1\n",
        "    IMAGES_PER_GPU = 1\n",
        "\n",
        "config = InferenceConfig()\n",
        "config.display()\n",
        "\n",
        "# Device to load the neural network on.\n",
        "# Useful if you're training a model on the same \n",
        "# machine, in which case use CPU and leave the\n",
        "# GPU for training.\n",
        "DEVICE = \"/gpu:0\"  # /cpu:0 or /gpu:0\n",
        "\n",
        "# Inspect the model in training or inference modes\n",
        "# values: 'inference' or 'training'\n",
        "# TODO: code for 'training' test mode not ready yet\n",
        "TEST_MODE = \"inference\""
      ],
      "execution_count": 0,
      "outputs": [
        {
          "output_type": "stream",
          "text": [
            "\n",
            "Configurations:\n",
            "BACKBONE                       resnet101\n",
            "BACKBONE_STRIDES               [4, 8, 16, 32, 64]\n",
            "BATCH_SIZE                     1\n",
            "BBOX_STD_DEV                   [0.1 0.1 0.2 0.2]\n",
            "COMPUTE_BACKBONE_SHAPE         None\n",
            "DETECTION_MAX_INSTANCES        100\n",
            "DETECTION_MIN_CONFIDENCE       0.9\n",
            "DETECTION_NMS_THRESHOLD        0.3\n",
            "FPN_CLASSIF_FC_LAYERS_SIZE     1024\n",
            "GPU_COUNT                      1\n",
            "GRADIENT_CLIP_NORM             5.0\n",
            "IMAGES_PER_GPU                 1\n",
            "IMAGE_CHANNEL_COUNT            3\n",
            "IMAGE_MAX_DIM                  1024\n",
            "IMAGE_META_SIZE                14\n",
            "IMAGE_MIN_DIM                  800\n",
            "IMAGE_MIN_SCALE                0\n",
            "IMAGE_RESIZE_MODE              square\n",
            "IMAGE_SHAPE                    [1024 1024    3]\n",
            "LEARNING_MOMENTUM              0.9\n",
            "LEARNING_RATE                  0.001\n",
            "LOSS_WEIGHTS                   {'rpn_class_loss': 1.0, 'rpn_bbox_loss': 1.0, 'mrcnn_class_loss': 1.0, 'mrcnn_bbox_loss': 1.0, 'mrcnn_mask_loss': 1.0}\n",
            "MASK_POOL_SIZE                 14\n",
            "MASK_SHAPE                     [28, 28]\n",
            "MAX_GT_INSTANCES               100\n",
            "MEAN_PIXEL                     [123.7 116.8 103.9]\n",
            "MINI_MASK_SHAPE                (56, 56)\n",
            "NAME                           pothole\n",
            "NUM_CLASSES                    2\n",
            "POOL_SIZE                      7\n",
            "POST_NMS_ROIS_INFERENCE        1000\n",
            "POST_NMS_ROIS_TRAINING         2000\n",
            "PRE_NMS_LIMIT                  6000\n",
            "ROI_POSITIVE_RATIO             0.33\n",
            "RPN_ANCHOR_RATIOS              [0.5, 1, 2]\n",
            "RPN_ANCHOR_SCALES              (32, 64, 128, 256, 512)\n",
            "RPN_ANCHOR_STRIDE              1\n",
            "RPN_BBOX_STD_DEV               [0.1 0.1 0.2 0.2]\n",
            "RPN_NMS_THRESHOLD              0.7\n",
            "RPN_TRAIN_ANCHORS_PER_IMAGE    256\n",
            "STEPS_PER_EPOCH                128\n",
            "TOP_DOWN_PYRAMID_SIZE          256\n",
            "TRAIN_BN                       False\n",
            "TRAIN_ROIS_PER_IMAGE           200\n",
            "USE_MINI_MASK                  True\n",
            "USE_RPN_ROIS                   True\n",
            "VALIDATION_STEPS               50\n",
            "WEIGHT_DECAY                   0.0001\n",
            "\n",
            "\n"
          ],
          "name": "stdout"
        }
      ]
    },
    {
      "cell_type": "code",
      "metadata": {
        "id": "srrfWr8o9q7v",
        "colab_type": "code",
        "outputId": "c5b99e1e-c5d5-4337-d327-a0bbf4c7d0f0",
        "colab": {
          "base_uri": "https://localhost:8080/",
          "height": 52
        }
      },
      "source": [
        "print(MODEL_DIR)\n",
        "print(custom_DIR)"
      ],
      "execution_count": 0,
      "outputs": [
        {
          "output_type": "stream",
          "text": [
            "/root/Mask_RCNN/logs\n",
            "/root/Mask_RCNN/dataset\n"
          ],
          "name": "stdout"
        }
      ]
    },
    {
      "cell_type": "code",
      "metadata": {
        "id": "UIpVBYI99npb",
        "colab_type": "code",
        "outputId": "f8b35365-1841-44b1-8ac9-2fd45ecd9979",
        "colab": {
          "base_uri": "https://localhost:8080/",
          "height": 815
        }
      },
      "source": [
        "\n",
        "def get_ax(rows=1, cols=1, size=16):\n",
        "    \"\"\"Return a Matplotlib Axes array to be used in\n",
        "    all visualizations in the notebook. Provide a\n",
        "    central point to control graph sizes.\n",
        "    \n",
        "    Adjust the size attribute to control how big to render images\n",
        "    \"\"\"\n",
        "    _, ax = plt.subplots(rows, cols, figsize=(size*cols, size*rows))\n",
        "    return ax\n",
        "  \n",
        "# Load validation dataset\n",
        "dataset = pothole.PotholeDataset()\n",
        "dataset.load_pothole(custom_DIR, \"val\")\n",
        "\n",
        "# Must call before using the dataset\n",
        "dataset.prepare()\n",
        "\n",
        "print(\"Images: {}\\nClasses: {}\".format(len(dataset.image_ids), dataset.class_names))\n",
        "\n",
        "# Create model in inference mode\n",
        "with tf.device(DEVICE):\n",
        "    model = modellib.MaskRCNN(mode=\"inference\", model_dir=MODEL_DIR,\n",
        "                              config=config)\n",
        "\n",
        "# load the last model you trained\n",
        "# weights_path = model.find_last()[1]\n",
        "\n",
        "# Load weights\n",
        "print(\"Loading weights \", custom_WEIGHTS_PATH)\n",
        "model.load_weights(custom_WEIGHTS_PATH, by_name=True)\n",
        "\n",
        "from importlib import reload # was constantly changin the visualization, so I decided to reload it instead of notebook\n",
        "reload(visualize)"
      ],
      "execution_count": 0,
      "outputs": [
        {
          "output_type": "stream",
          "text": [
            "Images: 95\n",
            "Classes: ['BG', 'pothole']\n",
            "WARNING:tensorflow:From /usr/local/lib/python3.6/dist-packages/keras/backend/tensorflow_backend.py:541: The name tf.placeholder is deprecated. Please use tf.compat.v1.placeholder instead.\n",
            "\n",
            "WARNING:tensorflow:From /usr/local/lib/python3.6/dist-packages/keras/backend/tensorflow_backend.py:66: The name tf.get_default_graph is deprecated. Please use tf.compat.v1.get_default_graph instead.\n",
            "\n",
            "WARNING:tensorflow:From /usr/local/lib/python3.6/dist-packages/keras/backend/tensorflow_backend.py:4432: The name tf.random_uniform is deprecated. Please use tf.random.uniform instead.\n",
            "\n",
            "WARNING:tensorflow:From /usr/local/lib/python3.6/dist-packages/keras/backend/tensorflow_backend.py:2139: The name tf.nn.fused_batch_norm is deprecated. Please use tf.compat.v1.nn.fused_batch_norm instead.\n",
            "\n",
            "WARNING:tensorflow:From /usr/local/lib/python3.6/dist-packages/keras/backend/tensorflow_backend.py:4267: The name tf.nn.max_pool is deprecated. Please use tf.nn.max_pool2d instead.\n",
            "\n",
            "WARNING:tensorflow:From /usr/local/lib/python3.6/dist-packages/keras/backend/tensorflow_backend.py:2239: The name tf.image.resize_nearest_neighbor is deprecated. Please use tf.compat.v1.image.resize_nearest_neighbor instead.\n",
            "\n",
            "WARNING:tensorflow:From /root/Mask_RCNN/mrcnn/model.py:341: The name tf.log is deprecated. Please use tf.math.log instead.\n",
            "\n",
            "WARNING:tensorflow:From /root/Mask_RCNN/mrcnn/model.py:399: where (from tensorflow.python.ops.array_ops) is deprecated and will be removed in a future version.\n",
            "Instructions for updating:\n",
            "Use tf.where in 2.0, which has the same broadcast rule as np.where\n",
            "WARNING:tensorflow:From /root/Mask_RCNN/mrcnn/model.py:423: calling crop_and_resize_v1 (from tensorflow.python.ops.image_ops_impl) with box_ind is deprecated and will be removed in a future version.\n",
            "Instructions for updating:\n",
            "box_ind is deprecated, use box_indices instead\n",
            "WARNING:tensorflow:From /root/Mask_RCNN/mrcnn/model.py:720: The name tf.sets.set_intersection is deprecated. Please use tf.sets.intersection instead.\n",
            "\n",
            "WARNING:tensorflow:From /root/Mask_RCNN/mrcnn/model.py:722: The name tf.sparse_tensor_to_dense is deprecated. Please use tf.sparse.to_dense instead.\n",
            "\n",
            "WARNING:tensorflow:From /root/Mask_RCNN/mrcnn/model.py:772: to_float (from tensorflow.python.ops.math_ops) is deprecated and will be removed in a future version.\n",
            "Instructions for updating:\n",
            "Use `tf.cast` instead.\n",
            "Loading weights  /logs/pothole20200313T0647/mask_rcnn_pothole_0100.h5\n",
            "WARNING:tensorflow:From /usr/local/lib/python3.6/dist-packages/keras/backend/tensorflow_backend.py:190: The name tf.get_default_session is deprecated. Please use tf.compat.v1.get_default_session instead.\n",
            "\n",
            "WARNING:tensorflow:From /usr/local/lib/python3.6/dist-packages/keras/backend/tensorflow_backend.py:197: The name tf.ConfigProto is deprecated. Please use tf.compat.v1.ConfigProto instead.\n",
            "\n",
            "WARNING:tensorflow:From /usr/local/lib/python3.6/dist-packages/keras/backend/tensorflow_backend.py:203: The name tf.Session is deprecated. Please use tf.compat.v1.Session instead.\n",
            "\n",
            "WARNING:tensorflow:From /usr/local/lib/python3.6/dist-packages/keras/backend/tensorflow_backend.py:207: The name tf.global_variables is deprecated. Please use tf.compat.v1.global_variables instead.\n",
            "\n",
            "WARNING:tensorflow:From /usr/local/lib/python3.6/dist-packages/keras/backend/tensorflow_backend.py:216: The name tf.is_variable_initialized is deprecated. Please use tf.compat.v1.is_variable_initialized instead.\n",
            "\n",
            "WARNING:tensorflow:From /usr/local/lib/python3.6/dist-packages/keras/backend/tensorflow_backend.py:223: The name tf.variables_initializer is deprecated. Please use tf.compat.v1.variables_initializer instead.\n",
            "\n",
            "Re-starting from epoch 100\n"
          ],
          "name": "stdout"
        },
        {
          "output_type": "execute_result",
          "data": {
            "text/plain": [
              "<module 'mrcnn.visualize' from '/root/Mask_RCNN/mrcnn/visualize.py'>"
            ]
          },
          "metadata": {
            "tags": []
          },
          "execution_count": 26
        }
      ]
    },
    {
      "cell_type": "code",
      "metadata": {
        "id": "X7iSzccTL9hM",
        "colab_type": "code",
        "colab": {}
      },
      "source": [
        "#image_id = random.choice(dataset.image_ids)\n",
        "for image_id in dataset.image_ids:\n",
        "  image, image_meta, gt_class_id, gt_bbox, gt_mask =\\\n",
        "      modellib.load_image_gt(dataset, config, image_id, use_mini_mask=False)\n",
        "  info = dataset.image_info[image_id]\n",
        "  print(\"image ID: {}.{} ({}) {}\".format(info[\"source\"], info[\"id\"], image_id, \n",
        "                                         dataset.image_reference(image_id)))\n",
        "\n",
        "  # Run object detection\n",
        "  results = model.detect([image], verbose=1)\n",
        "\n",
        "  # Display results\n",
        "  ax = get_ax(1)\n",
        "  r = results[0]\n",
        "  visualize.display_instances(image, r['rois'], r['masks'], r['class_ids'], \n",
        "                              dataset.class_names, r['scores'], ax=ax,\n",
        "                              title=\"Predictions\")\n",
        "  log(\"gt_class_id\", gt_class_id)\n",
        "  log(\"gt_bbox\", gt_bbox)\n",
        "  log(\"gt_mask\", gt_mask)"
      ],
      "execution_count": 0,
      "outputs": []
    },
    {
      "cell_type": "code",
      "metadata": {
        "id": "Tn5mgSZOIt_Q",
        "colab_type": "code",
        "colab": {}
      },
      "source": [
        ""
      ],
      "execution_count": 0,
      "outputs": []
    }
  ]
}